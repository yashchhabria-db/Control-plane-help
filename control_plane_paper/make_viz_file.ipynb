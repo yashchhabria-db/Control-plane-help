{
 "cells": [
  {
   "cell_type": "code",
   "execution_count": 7,
   "metadata": {},
   "outputs": [],
   "source": [
    "!source pyvis_venv/bin/activate"
   ]
  },
  {
   "cell_type": "code",
   "execution_count": 8,
   "metadata": {},
   "outputs": [
    {
     "name": "stdout",
     "output_type": "stream",
     "text": [
      "Found existing installation: pyvis 0.3.1\n",
      "Uninstalling pyvis-0.3.1:\n",
      "  Would remove:\n",
      "    /Users/yash.chhabria/project-test/Control-plane-help/.venv/lib/python3.10/site-packages/pyvis-0.3.1.dist-info/*\n",
      "    /Users/yash.chhabria/project-test/Control-plane-help/.venv/lib/python3.10/site-packages/pyvis/*\n",
      "Proceed (Y/n)? ^C\n",
      "\u001b[31mERROR: Operation cancelled by user\u001b[0m\u001b[31m\n",
      "\u001b[0m"
     ]
    }
   ],
   "source": [
    "!pip3 uninstall pyvis"
   ]
  },
  {
   "cell_type": "code",
   "execution_count": null,
   "metadata": {},
   "outputs": [
    {
     "name": "stdout",
     "output_type": "stream",
     "text": [
      "Requirement already satisfied: networkx in /Users/yash.chhabria/project-test/Control-plane-help/.venv/lib/python3.10/site-packages (3.1)\n",
      "Collecting pyvis==0.3.1\n",
      "  Downloading pyvis-0.3.1.tar.gz (748 kB)\n",
      "\u001b[2K     \u001b[90m━━━━━━━━━━━━━━━━━━━━━━━━━━━━━━━━━━━━━━━\u001b[0m \u001b[32m748.9/748.9 kB\u001b[0m \u001b[31m6.4 MB/s\u001b[0m eta \u001b[36m0:00:00\u001b[0m00:01\u001b[0m00:01\u001b[0m\n",
      "\u001b[?25h  Installing build dependencies ... \u001b[?25ldone\n",
      "\u001b[?25h  Getting requirements to build wheel ... \u001b[?25ldone\n",
      "\u001b[?25h  Preparing metadata (pyproject.toml) ... \u001b[?25ldone\n",
      "\u001b[?25hCollecting jinja2>=2.9.6 (from pyvis==0.3.1)\n",
      "  Using cached Jinja2-3.1.2-py3-none-any.whl (133 kB)\n",
      "Requirement already satisfied: networkx>=1.11 in /Users/yash.chhabria/project-test/Control-plane-help/.venv/lib/python3.10/site-packages (from pyvis==0.3.1) (3.1)\n",
      "Requirement already satisfied: ipython>=5.3.0 in /Users/yash.chhabria/project-test/Control-plane-help/.venv/lib/python3.10/site-packages (from pyvis==0.3.1) (8.13.2)\n",
      "Collecting jsonpickle>=1.4.1 (from pyvis==0.3.1)\n",
      "  Using cached jsonpickle-3.0.1-py2.py3-none-any.whl (40 kB)\n",
      "Requirement already satisfied: backcall in /Users/yash.chhabria/project-test/Control-plane-help/.venv/lib/python3.10/site-packages (from ipython>=5.3.0->pyvis==0.3.1) (0.2.0)\n",
      "Requirement already satisfied: decorator in /Users/yash.chhabria/project-test/Control-plane-help/.venv/lib/python3.10/site-packages (from ipython>=5.3.0->pyvis==0.3.1) (5.1.1)\n",
      "Requirement already satisfied: jedi>=0.16 in /Users/yash.chhabria/project-test/Control-plane-help/.venv/lib/python3.10/site-packages (from ipython>=5.3.0->pyvis==0.3.1) (0.18.2)\n",
      "Requirement already satisfied: matplotlib-inline in /Users/yash.chhabria/project-test/Control-plane-help/.venv/lib/python3.10/site-packages (from ipython>=5.3.0->pyvis==0.3.1) (0.1.6)\n",
      "Requirement already satisfied: pickleshare in /Users/yash.chhabria/project-test/Control-plane-help/.venv/lib/python3.10/site-packages (from ipython>=5.3.0->pyvis==0.3.1) (0.7.5)\n",
      "Requirement already satisfied: prompt-toolkit!=3.0.37,<3.1.0,>=3.0.30 in /Users/yash.chhabria/project-test/Control-plane-help/.venv/lib/python3.10/site-packages (from ipython>=5.3.0->pyvis==0.3.1) (3.0.38)\n",
      "Requirement already satisfied: pygments>=2.4.0 in /Users/yash.chhabria/project-test/Control-plane-help/.venv/lib/python3.10/site-packages (from ipython>=5.3.0->pyvis==0.3.1) (2.15.1)\n",
      "Requirement already satisfied: stack-data in /Users/yash.chhabria/project-test/Control-plane-help/.venv/lib/python3.10/site-packages (from ipython>=5.3.0->pyvis==0.3.1) (0.6.2)\n",
      "Requirement already satisfied: traitlets>=5 in /Users/yash.chhabria/project-test/Control-plane-help/.venv/lib/python3.10/site-packages (from ipython>=5.3.0->pyvis==0.3.1) (5.9.0)\n",
      "Requirement already satisfied: pexpect>4.3 in /Users/yash.chhabria/project-test/Control-plane-help/.venv/lib/python3.10/site-packages (from ipython>=5.3.0->pyvis==0.3.1) (4.8.0)\n",
      "Requirement already satisfied: appnope in /Users/yash.chhabria/project-test/Control-plane-help/.venv/lib/python3.10/site-packages (from ipython>=5.3.0->pyvis==0.3.1) (0.1.3)\n",
      "Collecting MarkupSafe>=2.0 (from jinja2>=2.9.6->pyvis==0.3.1)\n",
      "  Using cached MarkupSafe-2.1.2-cp310-cp310-macosx_10_9_universal2.whl (17 kB)\n",
      "Requirement already satisfied: parso<0.9.0,>=0.8.0 in /Users/yash.chhabria/project-test/Control-plane-help/.venv/lib/python3.10/site-packages (from jedi>=0.16->ipython>=5.3.0->pyvis==0.3.1) (0.8.3)\n",
      "Requirement already satisfied: ptyprocess>=0.5 in /Users/yash.chhabria/project-test/Control-plane-help/.venv/lib/python3.10/site-packages (from pexpect>4.3->ipython>=5.3.0->pyvis==0.3.1) (0.7.0)\n",
      "Requirement already satisfied: wcwidth in /Users/yash.chhabria/project-test/Control-plane-help/.venv/lib/python3.10/site-packages (from prompt-toolkit!=3.0.37,<3.1.0,>=3.0.30->ipython>=5.3.0->pyvis==0.3.1) (0.2.6)\n",
      "Requirement already satisfied: executing>=1.2.0 in /Users/yash.chhabria/project-test/Control-plane-help/.venv/lib/python3.10/site-packages (from stack-data->ipython>=5.3.0->pyvis==0.3.1) (1.2.0)\n",
      "Requirement already satisfied: asttokens>=2.1.0 in /Users/yash.chhabria/project-test/Control-plane-help/.venv/lib/python3.10/site-packages (from stack-data->ipython>=5.3.0->pyvis==0.3.1) (2.2.1)\n",
      "Requirement already satisfied: pure-eval in /Users/yash.chhabria/project-test/Control-plane-help/.venv/lib/python3.10/site-packages (from stack-data->ipython>=5.3.0->pyvis==0.3.1) (0.2.2)\n",
      "Requirement already satisfied: six in /Users/yash.chhabria/project-test/Control-plane-help/.venv/lib/python3.10/site-packages (from asttokens>=2.1.0->stack-data->ipython>=5.3.0->pyvis==0.3.1) (1.16.0)\n",
      "Building wheels for collected packages: pyvis\n",
      "  Building wheel for pyvis (pyproject.toml) ... \u001b[?25ldone\n",
      "\u001b[?25h  Created wheel for pyvis: filename=pyvis-0.3.1-py3-none-any.whl size=755834 sha256=130c03e75b68881d82bae4c16a391bf90109edcf8f678b3e8799c0adb5565dfa\n",
      "  Stored in directory: /Users/yash.chhabria/Library/Caches/pip/wheels/37/f9/93/44dd6cbfb2ead35307b114d27af8c6a14d5762a462af1e04f5\n",
      "Successfully built pyvis\n",
      "Installing collected packages: MarkupSafe, jsonpickle, jinja2, pyvis\n",
      "Successfully installed MarkupSafe-2.1.2 jinja2-3.1.2 jsonpickle-3.0.1 pyvis-0.3.1\n"
     ]
    }
   ],
   "source": [
    "!pip3 install networkx\n",
    "!pip3 install pyvis==0.3.1"
   ]
  },
  {
   "cell_type": "code",
   "execution_count": 61,
   "metadata": {},
   "outputs": [],
   "source": [
    "import json\n",
    "import networkx as nx\n",
    "import os\n",
    "\n",
    "from pyvis.network import Network\n",
    "\n",
    "def create_nodes_list(data):\n",
    "    nodes_to_ingest =  []\n",
    "    for node in data.keys():\n",
    "        if data[node]['node_ip'] not in nodes_to_ingest: #for node_ip nodes\n",
    "            nodes_to_ingest.append(\"node(\"+data[node]['node_ip']+')')\n",
    "        node_with_attr_tuple = (node , data[node])\n",
    "        nodes_to_ingest.append(node_with_attr_tuple)\n",
    "\n",
    "    return nodes_to_ingest\n",
    "\n",
    "\n",
    "def create_edges_list(data):\n",
    "    edges_to_ingest = []\n",
    "    for node_key, node_values in data.items():\n",
    "        for connection in node_values['incomming_connections']:\n",
    "            # if connection[0].startswith('10.2.152.169') or connection[1][0].startswith('10.2.152.169'):\n",
    "            if connection[1][0].startswith('10.2.'):\n",
    "                edge_attrs = {'sending' : connection[1][0].split(':')[1],\n",
    "                            'listening' : connection[0].split(':')[1] \n",
    "                            }\n",
    "                edge_tuple = (connection[1][1], node_key, edge_attrs)\n",
    "                edges_to_ingest.append(edge_tuple)\n",
    "\n",
    "\n",
    "            #for node to pod connections\n",
    "\n",
    "            if connection[1][0].startswith('10.20.'):\n",
    "                edge_attrs = {'sending' : connection[1][0].split(':')[1],\n",
    "                            'listening' : connection[0].split(':')[1] \n",
    "                            }\n",
    "                \n",
    "                edge_tuple = (\"node(\"+connection[1][0].split(\":\")[0]+')', node_key, edge_attrs)\n",
    "                edges_to_ingest.append(edge_tuple)\n",
    "                \n",
    "                #print(connection[1][1], node_key, 'sending:', connection[1][0].split(':')[1], 'listening:', connection[0].split(':')[1])\n",
    "    return edges_to_ingest\n",
    "\n",
    "\n",
    "\n",
    "\n",
    "G = nx.DiGraph()\n",
    "json_file = 'json_pod_parsed.json'\n",
    "with open(json_file) as json_file:\n",
    "    data = json.load(json_file)\n",
    "nodes_to_ingest = create_nodes_list(data)\n",
    "edges_to_ingest = create_edges_list(data)\n",
    "G.add_nodes_from(nodes_to_ingest)\n",
    "# print(edges_to_ingest)\n",
    "G.add_edges_from(edges_to_ingest)\n",
    "# print(G.edges())\n",
    "# nx.draw(G, with_labels=True)\n",
    "# plt.show()\n",
    "\n",
    "for node in G.nodes():\n",
    "    # Convert node attributes to compatible types\n",
    "    attributes = G.nodes[node]\n",
    "    for attr, value in attributes.items():\n",
    "        if isinstance(value, (int, float)):\n",
    "            attributes[attr] = str(value)\n",
    "        elif isinstance(value, dict) or isinstance(value, list):\n",
    "            attributes[attr] = json.dumps(value)\n",
    "\n",
    "for edge in G.edges():\n",
    "    # Convert edge attributes to compatible types\n",
    "    start_node, end_node = edge\n",
    "    attributes = G.edges[start_node, end_node]\n",
    "    for attr, value in attributes.items():\n",
    "        if isinstance(value, (int, float)):\n",
    "            attributes[attr] = str(value)\n",
    "        elif isinstance(value, dict) or isinstance(value, list):\n",
    "            attributes[attr] = json.dumps(value)\n"
   ]
  },
  {
   "cell_type": "code",
   "execution_count": 62,
   "metadata": {},
   "outputs": [],
   "source": [
    "isolated_nodes_and_pods = list(nx.isolates(G))\n",
    "\n",
    "isolated_nodes = []\n",
    "for node in isolated_nodes_and_pods:\n",
    "    if node.startswith('node('):\n",
    "        isolated_nodes.append(node)\n",
    "\n",
    "G.remove_nodes_from(isolated_nodes)"
   ]
  },
  {
   "cell_type": "code",
   "execution_count": 69,
   "metadata": {},
   "outputs": [],
   "source": [
    "nt = Network('3000', '3000', directed=True,  select_menu=True, filter_menu=True)\n",
    "nt.from_nx(G)\n",
    "\n",
    "#nt.show_buttons()\n",
    "nt.show_buttons(filter_=['nodes'])\n",
    "nt.show('consumable_vis_pods_and_nodes.html')\n",
    "\n"
   ]
  },
  {
   "cell_type": "code",
   "execution_count": 64,
   "metadata": {},
   "outputs": [
    {
     "data": {
      "text/plain": [
       "['__class__',\n",
       " '__delattr__',\n",
       " '__dict__',\n",
       " '__dir__',\n",
       " '__doc__',\n",
       " '__eq__',\n",
       " '__format__',\n",
       " '__ge__',\n",
       " '__getattribute__',\n",
       " '__gt__',\n",
       " '__hash__',\n",
       " '__init__',\n",
       " '__init_subclass__',\n",
       " '__le__',\n",
       " '__lt__',\n",
       " '__module__',\n",
       " '__ne__',\n",
       " '__new__',\n",
       " '__reduce__',\n",
       " '__reduce_ex__',\n",
       " '__repr__',\n",
       " '__setattr__',\n",
       " '__sizeof__',\n",
       " '__str__',\n",
       " '__subclasshook__',\n",
       " '__weakref__',\n",
       " 'add_edge',\n",
       " 'add_edges',\n",
       " 'add_node',\n",
       " 'add_nodes',\n",
       " 'barnes_hut',\n",
       " 'bgcolor',\n",
       " 'cdn_resources',\n",
       " 'conf',\n",
       " 'directed',\n",
       " 'dot_lang',\n",
       " 'edges',\n",
       " 'filter_menu',\n",
       " 'font_color',\n",
       " 'force_atlas_2based',\n",
       " 'from_DOT',\n",
       " 'from_nx',\n",
       " 'generate_html',\n",
       " 'get_adj_list',\n",
       " 'get_edges',\n",
       " 'get_network_data',\n",
       " 'get_node',\n",
       " 'get_nodes',\n",
       " 'heading',\n",
       " 'height',\n",
       " 'hrepulsion',\n",
       " 'html',\n",
       " 'inherit_edge_colors',\n",
       " 'neighborhood_highlight',\n",
       " 'neighbors',\n",
       " 'node_ids',\n",
       " 'node_map',\n",
       " 'nodes',\n",
       " 'num_edges',\n",
       " 'num_nodes',\n",
       " 'options',\n",
       " 'path',\n",
       " 'prep_notebook',\n",
       " 'repulsion',\n",
       " 'save_graph',\n",
       " 'select_menu',\n",
       " 'set_edge_smooth',\n",
       " 'set_options',\n",
       " 'set_template',\n",
       " 'set_template_dir',\n",
       " 'shape',\n",
       " 'show',\n",
       " 'show_buttons',\n",
       " 'template',\n",
       " 'templateEnv',\n",
       " 'template_dir',\n",
       " 'to_json',\n",
       " 'toggle_drag_nodes',\n",
       " 'toggle_hide_edges_on_drag',\n",
       " 'toggle_hide_nodes_on_drag',\n",
       " 'toggle_physics',\n",
       " 'toggle_stabilization',\n",
       " 'use_DOT',\n",
       " 'widget',\n",
       " 'width',\n",
       " 'write_html']"
      ]
     },
     "execution_count": 64,
     "metadata": {},
     "output_type": "execute_result"
    }
   ],
   "source": [
    "dir(nt)"
   ]
  },
  {
   "cell_type": "code",
   "execution_count": 54,
   "metadata": {},
   "outputs": [],
   "source": [
    "pod_net_f = open(\"pod_networking.txt\", \"r\")\n",
    "pod_net_list = pod_net_f.readlines()\n",
    "pod_net_f.close()\n",
    "\n",
    "pod_ip_dict = {}\n",
    "\n",
    "for i in range(0,len(pod_net_list)):\n",
    "    try:\n",
    "        if pod_net_list[i].startswith(\"****\"):\n",
    "            i += 1\n",
    "            pod_info = pod_net_list[i].strip().split(\"|\")\n",
    "\n",
    "            #fix for chutiya service pod relationship file \n",
    "            if pod_info[1] not in pod_ip_dict.keys():\n",
    "                pod_ip_dict[pod_info[0]] = pod_info[1]\n",
    "    except:\n",
    "        pass\n"
   ]
  },
  {
   "cell_type": "code",
   "execution_count": 55,
   "metadata": {},
   "outputs": [],
   "source": [
    "\n",
    "\n",
    "priv_list = \"\"\"sqlacl-sisyphus-c4fb4d997-cpmxz\n",
    "Cons-webapp-0\n",
    "cons-sisyphus-74ddbdc456-99g8v\n",
    "cons-shs-8589bdf6c6-rddhj\n",
    "cons-s3-commit-84dd85fcf6-bmxzx\n",
    "Cons-manager-0\n",
    "cons-jobs-runner-9766899db-9fdjh\n",
    "Cons-jobs-0\n",
    "cons-delegate-76586f55c-b6g62\n",
    "auth-high-qps-6c786dd5b9-9wvj9\n",
    "auth-c5944fbbf-cktr8\n",
    "managed-catalog-b5685957-sk28b\n",
    "cons-manager-0\n",
    "cons-delegate-76586f55c-b6g62\n",
    "Cluster-monitor-0\n",
    "cluster-manager-k8s-57f4d497bc-k6m4c\n",
    "cluster-libraries-89855b5cc-zjv9z\n",
    "Cons-projects-0\n",
    "directory-599fdd8684-dk7bz\n",
    "strimzi-cluster-operator-5b55f5b6-qvmjl\n",
    "\"\"\"\n",
    "priv_list = priv_list.split()"
   ]
  },
  {
   "cell_type": "code",
   "execution_count": 56,
   "metadata": {},
   "outputs": [
    {
     "data": {
      "text/plain": [
       "dict_keys(['access-control-78c6d875b8-rk98n', 'acl-manager-867cc96fcc-d2p49', 'apiproxy-68d6bc64fc-88tpk', 'auth-c5944fbbf-cktr8', 'auth-high-qps-6c786dd5b9-9wvj9', 'auth-v2-74df99ddbc-89jwg', 'automl-895b5bb78-pxlxn', 'billing-ingester-5584b47b6c-fbn2d', 'cloudmock-794bc6696b-h2lkv', 'cluster-events-5b4fdfb55d-z57mw', 'cluster-identity-7dc49d5fc4-fmq7f', 'cluster-libraries-89855b5cc-zjv9z', 'cluster-manager-k8s-57f4d497bc-k6m4c', 'cluster-metrics-6865bbf9f5-4z994', 'cluster-monitor-0', 'clusters-database-monitor-56c5f797c7-t5d22', 'cmapiserver-695cbbc467-zjddt', 'cons-delegate-76586f55c-b6g62', 'cons-jobs-0', 'cons-jobs-proxy-77dc498f9d-48v99', 'cons-jobs-runner-9766899db-9fdjh', 'cons-manager-0', 'cons-projects-0', 'cons-s3-commit-84dd85fcf6-bmxzx', 'cons-shs-8589bdf6c6-rddhj', 'cons-sisyphus-74ddbdc456-99g8v', 'cons-webapp-0', 'consul-0', 'credentials-manager-5b99dc45b5-dl6r6', 'data-monitoring-76d6b96c54-zw5ch', 'data-plane-router-578cfb7d9f-whs7z', 'delta-pipelines-74878b6ff5-qctqv', 'delta-pipelines-manager-758cc8cbd-jjgpf', 'dicer-assigner-5f765f7bc7-2c2xc', 'dicer-etcd-0', 'directory-599fdd8684-dk7bz', 'dummyservice-b9d44d4cb-6kr6z', 'email-notifications-b4877896f-48fnn', 'endpoint-discovery-service-548f7fd597-h64pw', 'feature-store-5bcd995f68-8c8tf', 'graphql-6bcc6c57bc-876cs', 'groot-5c9bc8b6c8-w8db6', 'ingestion-5568dcbd69-ktjvn', 'instance-manager-5d875f84d8-f2ts8', 'instance-pool-659b447f59-bwndl', 'jobs-api-776b6dfbb5-fcspg', 'jobs-housekeeper-9c7596dbc-mgm6n', 'jobs-observability-5f5f74ddc-rs2vw', 'jobs-ops-7fcf6b7f86-lcxhp', 'jobs-orchestrator-74c5f446c8-5bf7f', 'kafka-consumer-proxy-887d7f7b-lcfwb', 'kafka-producer-proxy-5c67f8d7d7-tv644', 'kafka-test-shard-entity-operator-59bfc9cf4-7fp2s', 'kafka-test-shard-kafka-0', 'kafka-test-shard-zookeeper-0', 'key-manager-594cb6458b-cxb42', 'lakeview-config-5c9d8f57f7-q4f8q', 'lakeview-query-6f59dd4c7-484gq', 'legacy-handlers-55df96d6f6-h8dtr', 'lethe-proxy-mt-5496c64586-4gs6n', 'maintenance-auto-compute-54579ddccd-wbkwn', 'managed-catalog-b5685957-sk28b', 'marketplace-7f7778d65c-kbwdw', 'marketplace-metadata-7dc7b7d5b7-69z4h', 'metadata-lineage-api-server-6d9b8c485f-x5qgn', 'mlflow-64c5cd6db-d6qfg', 'mlflow-serving-5d6f9ccbc9-q6ksh', 'model-serving-api-5b7d659b6f-l6rw2', 'model-serving-proxy-667ccdb58f-pvrsl', 'onboarding-7b89897895-p2sds', 'partnerhub-bb8d7f7fb-6t2fz', 'projects-proxy-67bf648bf8-rjhdj', 'ratelimit-v2-66655f9546-xpznl', 'ratelimit-v2-redis-75b968b698-9vpzx', 'redash-async-d5b464c6-trj5r', 'redash-b6777b664-bsnkp', 'redash-jobs-7bcbd49999-dwq9p', 'redash-scheduler-6758fd9647-phdcr', 'redash-v2-679b79c457-4zx4q', 'redash-worker-8f75c7b45-69b8m', 'release-test-service-848f74484d-z84tm', 'route-discovery-service-7f455df6c9-k7stz', 'secret-manager-78c675f8cd-ncz7x', 'serving-scheduler-8b5d548c-wwz2v', 'settings-policy-69d99d586f-9v924', 'softclient-74bcfcd4f8-kw2n9', 'softstore-storelet-0', 'spark-connect-router-8f7486d9c-4vqrr', 'sql-cloud-results-gc-546d9d7c49-82tmk', 'sql-exec-api-66889b5694-746nm', 'sqlacl-sisyphus-c4fb4d997-cpmxz', 'sqlgateway-history-67d585ff87-gk7d7', 'sqlgateway-history-db-admin-5c6cdbf4b7-665qf', 'sqlgateway-proxy-6d746ff9c9-9l6nq', 'sqlgateway-scheduler-0', 'strimzi-cluster-operator-5b55f5b6-qvmjl', 'test-shard-local-database-64dbd96db6-lj5kn', 'uc-model-registry-c6cc85977-4qt87', 'ui-555774c89b-nwcn9', 'user-activity-7c96cb868d-9gnkl', 'webhook-notifications-859444dcd7-ndmsq', 'workspace-files-gc-65475f8b68-swphd'])"
      ]
     },
     "execution_count": 56,
     "metadata": {},
     "output_type": "execute_result"
    }
   ],
   "source": [
    "pod_ip_dict.keys()"
   ]
  },
  {
   "cell_type": "code",
   "execution_count": 57,
   "metadata": {},
   "outputs": [],
   "source": [
    "priv_ips = []\n",
    "\n",
    "\n",
    "for pod in priv_list:\n",
    "    priv_ips.append(pod_ip_dict[pod.lower()])"
   ]
  },
  {
   "cell_type": "code",
   "execution_count": 58,
   "metadata": {},
   "outputs": [],
   "source": [
    "for node in nt.nodes:\n",
    "    if node['id'] in priv_list:\n",
    "        node['color']='red'\n"
   ]
  },
  {
   "cell_type": "code",
   "execution_count": 59,
   "metadata": {},
   "outputs": [
    {
     "name": "stdout",
     "output_type": "stream",
     "text": [
      "{'color': 'red', 'pod_ip': '10.2.152.169', 'node_ip': '10.20.10.162', 'listening_ports': '[\"5290\", \"6000\", \"443\", \"7777\"]', 'outgoing_ports': '[\"5290\", \"58100\", \"52956\", \"44390\", \"45506\", \"36844\", \"57878\", \"51672\", \"44378\", \"58106\", \"36852\"]', 'pid': '[[\"6\", \"com.databricks.auth.server.service.AuthService\"]]', 'incomming_connections': '[[\"10.2.152.169:5290\", [\"10.2.152.173:56236\", \"lakeview-query-6f59dd4c7-484gq\"], \"ESTABLISHED\", \"6/java\"], [\"10.2.152.169:5290\", [\"10.2.50.106:54964\", \"credentials-manager-5b99dc45b5-dl6r6\"], \"ESTABLISHED\", \"6/java\"], [\"10.2.152.169:5290\", [\"10.2.211.121:56444\", \"cons-sisyphus-74ddbdc456-99g8v\"], \"ESTABLISHED\", \"6/java\"], [\"10.2.152.169:5290\", [\"10.2.98.205:46804\", \"sqlgateway-proxy-6d746ff9c9-9l6nq\"], \"ESTABLISHED\", \"6/java\"], [\"10.2.152.169:5290\", [\"10.2.12.188:54046\", \"sqlgateway-history-67d585ff87-gk7d7\"], \"ESTABLISHED\", \"6/java\"], [\"10.2.152.169:5290\", [\"10.2.50.107:59786\", \"user-activity-7c96cb868d-9gnkl\"], \"ESTABLISHED\", \"6/java\"], [\"10.2.152.169:5290\", [\"10.2.211.123:34638\", \"instance-manager-5d875f84d8-f2ts8\"], \"ESTABLISHED\", \"6/java\"], [\"10.2.152.169:5290\", [\"10.2.64.42:56920\", \"data-plane-router-578cfb7d9f-whs7z\"], \"ESTABLISHED\", \"6/java\"], [\"10.2.152.169:5290\", [\"10.2.179.14:50136\", \"lakeview-config-5c9d8f57f7-q4f8q\"], \"ESTABLISHED\", \"6/java\"], [\"10.2.152.169:5290\", [\"10.2.191.192:49836\", \"cons-projects-0\"], \"ESTABLISHED\", \"6/java\"], [\"10.2.152.169:5290\", [\"10.2.191.193:37994\", \"uc-model-registry-c6cc85977-4qt87\"], \"ESTABLISHED\", \"6/java\"], [\"10.2.152.169:5290\", [\"10.2.179.11:50484\", \"graphql-6bcc6c57bc-876cs\"], \"ESTABLISHED\", \"6/java\"], [\"10.2.152.169:5290\", [\"10.2.236.23:40388\", \"legacy-handlers-55df96d6f6-h8dtr\"], \"ESTABLISHED\", \"6/java\"], [\"10.2.152.169:5290\", [\"10.2.12.181:50362\", \"data-monitoring-76d6b96c54-zw5ch\"], \"ESTABLISHED\", \"6/java\"], [\"10.2.152.169:5290\", [\"10.2.236.19:36372\", \"feature-store-5bcd995f68-8c8tf\"], \"ESTABLISHED\", \"6/java\"], [\"10.2.152.169:5290\", [\"10.2.236.21:42220\", \"jobs-ops-7fcf6b7f86-lcxhp\"], \"ESTABLISHED\", \"6/java\"], [\"10.2.152.169:5290\", [\"10.2.61.202:47052\", \"redash-v2-679b79c457-4zx4q\"], \"ESTABLISHED\", \"6/java\"], [\"10.2.152.169:5290\", [\"10.2.61.248:43704\", \"billing-ingester-5584b47b6c-fbn2d\"], \"ESTABLISHED\", \"6/java\"], [\"10.2.152.169:5290\", [\"10.2.152.174:50540\", \"marketplace-metadata-7dc7b7d5b7-69z4h\"], \"ESTABLISHED\", \"6/java\"], [\"10.2.152.169:5290\", [\"10.2.236.15:35152\", \"access-control-78c6d875b8-rk98n\"], \"ESTABLISHED\", \"6/java\"], [\"10.2.152.169:5290\", [\"10.2.61.250:32774\", \"email-notifications-b4877896f-48fnn\"], \"ESTABLISHED\", \"6/java\"], [\"10.2.152.169:5290\", [\"10.2.211.117:59280\", \"cmapiserver-695cbbc467-zjddt\"], \"ESTABLISHED\", \"6/java\"], [\"10.2.152.169:5290\", [\"10.2.152.171:43814\", \"cons-delegate-76586f55c-b6g62\"], \"ESTABLISHED\", \"6/java\"], [\"10.2.152.169:5290\", [\"10.2.191.188:50340\", \"kafka-consumer-proxy-887d7f7b-lcfwb\"], \"ESTABLISHED\", \"6/java\"], [\"10.2.152.169:5290\", [\"10.2.179.10:55958\", \"delta-pipelines-74878b6ff5-qctqv\"], \"ESTABLISHED\", \"6/java\"], [\"10.2.152.169:5290\", [\"10.2.236.28:52192\", \"spark-connect-router-8f7486d9c-4vqrr\"], \"ESTABLISHED\", \"6/java\"], [\"10.2.152.169:5290\", [\"10.2.211.127:49254\", \"sql-exec-api-66889b5694-746nm\"], \"ESTABLISHED\", \"6/java\"], [\"10.2.152.169:5290\", [\"10.2.62.0:56004\", \"sqlacl-sisyphus-c4fb4d997-cpmxz\"], \"ESTABLISHED\", \"6/java\"], [\"10.2.152.169:5290\", [\"10.2.236.16:60070\", \"acl-manager-867cc96fcc-d2p49\"], \"ESTABLISHED\", \"6/java\"], [\"10.2.152.169:5290\", [\"10.2.12.184:59692\", \"jobs-housekeeper-9c7596dbc-mgm6n\"], \"ESTABLISHED\", \"6/java\"], [\"10.2.152.169:5290\", [\"10.2.64.44:48746\", \"model-serving-api-5b7d659b6f-l6rw2\"], \"ESTABLISHED\", \"6/java\"], [\"10.2.152.169:5290\", [\"10.2.61.249:41098\", \"cluster-libraries-89855b5cc-zjv9z\"], \"ESTABLISHED\", \"6/java\"], [\"10.2.152.169:5290\", [\"10.2.12.185:39050\", \"marketplace-7f7778d65c-kbwdw\"], \"ESTABLISHED\", \"6/java\"], [\"10.2.152.169:5290\", [\"10.2.191.190:46670\", \"metadata-lineage-api-server-6d9b8c485f-x5qgn\"], \"ESTABLISHED\", \"6/java\"], [\"10.2.152.169:5290\", [\"10.2.61.252:38834\", \"jobs-observability-5f5f74ddc-rs2vw\"], \"ESTABLISHED\", \"6/java\"], [\"10.2.152.169:5290\", [\"10.2.64.46:39873\", \"cons-webapp-0\"], \"ESTABLISHED\", \"6/java\"], [\"10.2.152.169:5290\", [\"10.2.211.124:55524\", \"maintenance-auto-compute-54579ddccd-wbkwn\"], \"ESTABLISHED\", \"6/java\"], [\"10.2.152.169:5290\", [\"10.2.191.194:47140\", \"webhook-notifications-859444dcd7-ndmsq\"], \"ESTABLISHED\", \"6/java\"], [\"10.2.152.169:5290\", [\"10.2.211.120:43828\", \"cons-s3-commit-84dd85fcf6-bmxzx\"], \"ESTABLISHED\", \"6/java\"], [\"10.2.152.169:5290\", [\"10.2.211.116:60596\", \"automl-895b5bb78-pxlxn\"], \"ESTABLISHED\", \"6/java\"], [\"10.2.152.169:5290\", [\"10.2.12.190:50684\", \"cons-manager-0\"], \"ESTABLISHED\", \"6/java\"], [\"10.2.152.169:5290\", [\"10.2.191.187:53018\", \"jobs-orchestrator-74c5f446c8-5bf7f\"], \"ESTABLISHED\", \"6/java\"], [\"10.2.152.169:5290\", [\"10.2.179.9:36126\", \"cluster-metrics-6865bbf9f5-4z994\"], \"ESTABLISHED\", \"6/java\"], [\"10.2.152.169:5290\", [\"10.2.179.15:37012\", \"model-serving-proxy-667ccdb58f-pvrsl\"], \"ESTABLISHED\", \"6/java\"], [\"10.2.152.169:5290\", [\"10.2.179.13:40392\", \"jobs-api-776b6dfbb5-fcspg\"], \"ESTABLISHED\", \"6/java\"], [\"10.2.152.169:5290\", [\"10.2.152.175:58954\", \"mlflow-64c5cd6db-d6qfg\"], \"ESTABLISHED\", \"6/java\"], [\"10.2.152.169:5290\", [\"10.2.61.254:51640\", \"onboarding-7b89897895-p2sds\"], \"ESTABLISHED\", \"6/java\"], [\"10.2.152.169:5290\", [\"10.2.12.182:60712\", \"delta-pipelines-manager-758cc8cbd-jjgpf\"], \"ESTABLISHED\", \"6/java\"], [\"10.2.152.169:5290\", [\"10.2.236.20:43176\", \"groot-5c9bc8b6c8-w8db6\"], \"ESTABLISHED\", \"6/java\"], [\"10.2.152.169:5290\", [\"10.2.179.12:60662\", \"ingestion-5568dcbd69-ktjvn\"], \"ESTABLISHED\", \"6/java\"]]', 'incomming_connected_service_names': '[]', 'incomming_connected_pod_names': '[\"lakeview-query-6f59dd4c7-484gq\", \"credentials-manager-5b99dc45b5-dl6r6\", \"cons-sisyphus-74ddbdc456-99g8v\", \"sqlgateway-proxy-6d746ff9c9-9l6nq\", \"sqlgateway-history-67d585ff87-gk7d7\", \"user-activity-7c96cb868d-9gnkl\", \"instance-manager-5d875f84d8-f2ts8\", \"data-plane-router-578cfb7d9f-whs7z\", \"lakeview-config-5c9d8f57f7-q4f8q\", \"cons-projects-0\", \"uc-model-registry-c6cc85977-4qt87\", \"graphql-6bcc6c57bc-876cs\", \"legacy-handlers-55df96d6f6-h8dtr\", \"data-monitoring-76d6b96c54-zw5ch\", \"feature-store-5bcd995f68-8c8tf\", \"jobs-ops-7fcf6b7f86-lcxhp\", \"redash-v2-679b79c457-4zx4q\", \"billing-ingester-5584b47b6c-fbn2d\", \"marketplace-metadata-7dc7b7d5b7-69z4h\", \"access-control-78c6d875b8-rk98n\", \"email-notifications-b4877896f-48fnn\", \"cmapiserver-695cbbc467-zjddt\", \"cons-delegate-76586f55c-b6g62\", \"kafka-consumer-proxy-887d7f7b-lcfwb\", \"delta-pipelines-74878b6ff5-qctqv\", \"spark-connect-router-8f7486d9c-4vqrr\", \"sql-exec-api-66889b5694-746nm\", \"sqlacl-sisyphus-c4fb4d997-cpmxz\", \"acl-manager-867cc96fcc-d2p49\", \"jobs-housekeeper-9c7596dbc-mgm6n\", \"model-serving-api-5b7d659b6f-l6rw2\", \"cluster-libraries-89855b5cc-zjv9z\", \"marketplace-7f7778d65c-kbwdw\", \"metadata-lineage-api-server-6d9b8c485f-x5qgn\", \"jobs-observability-5f5f74ddc-rs2vw\", \"cons-webapp-0\", \"maintenance-auto-compute-54579ddccd-wbkwn\", \"webhook-notifications-859444dcd7-ndmsq\", \"cons-s3-commit-84dd85fcf6-bmxzx\", \"automl-895b5bb78-pxlxn\", \"cons-manager-0\", \"jobs-orchestrator-74c5f446c8-5bf7f\", \"cluster-metrics-6865bbf9f5-4z994\", \"model-serving-proxy-667ccdb58f-pvrsl\", \"jobs-api-776b6dfbb5-fcspg\", \"mlflow-64c5cd6db-d6qfg\", \"onboarding-7b89897895-p2sds\", \"delta-pipelines-manager-758cc8cbd-jjgpf\", \"groot-5c9bc8b6c8-w8db6\", \"ingestion-5568dcbd69-ktjvn\"]', 'outgoing_connections': '[[\"10.2.152.169:58100\", [\"10.3.58.124:3306\", \"test-shard-local-database-service\"], \"ESTABLISHED\", \"6/java\"], [\"10.2.152.169:52956\", [\"10.3.58.124:3306\", \"test-shard-local-database-service\"], \"ESTABLISHED\", \"6/java\"], [\"10.2.152.169:44390\", [\"10.3.58.124:3306\", \"test-shard-local-database-service\"], \"ESTABLISHED\", \"6/java\"], [\"10.2.152.169:45506\", [\"10.3.58.124:3306\", \"test-shard-local-database-service\"], \"ESTABLISHED\", \"6/java\"], [\"10.2.152.169:36844\", [\"10.3.58.124:3306\", \"test-shard-local-database-service\"], \"ESTABLISHED\", \"6/java\"], [\"10.2.152.169:57878\", [\"10.3.58.124:3306\", \"test-shard-local-database-service\"], \"ESTABLISHED\", \"6/java\"], [\"10.2.152.169:51672\", [\"10.3.58.124:3306\", \"test-shard-local-database-service\"], \"ESTABLISHED\", \"6/java\"], [\"10.2.152.169:44378\", [\"10.3.58.124:3306\", \"test-shard-local-database-service\"], \"ESTABLISHED\", \"6/java\"], [\"10.2.152.169:58106\", [\"10.3.58.124:3306\", \"test-shard-local-database-service\"], \"ESTABLISHED\", \"6/java\"], [\"10.2.152.169:36852\", [\"10.3.58.124:3306\", \"test-shard-local-database-service\"], \"ESTABLISHED\", \"6/java\"]]', 'outgoing_connected_service_names': '[\"test-shard-local-database-service\"]', 'outgoing_connected_pod_names': '[]', 'size': 10, 'id': 'auth-c5944fbbf-cktr8', 'label': 'auth-c5944fbbf-cktr8', 'shape': 'dot'}\n",
      "{'color': 'red', 'pod_ip': '10.2.211.122', 'node_ip': '10.20.11.81', 'listening_ports': '[\"443\", \"7777\", \"7907\", \"31313\", \"31315\", \"31316\", \"31317\", \"7779\"]', 'outgoing_ports': '[\"31316\", \"31313\", \"42660\", \"50876\", \"49816\", \"38260\", \"42852\", \"51980\", \"33664\", \"49824\", \"41322\", \"39064\", \"59682\", \"55288\", \"59676\", \"45806\", \"56552\", \"40480\", \"44796\", \"55510\", \"50406\", \"40728\", \"40308\", \"58578\", \"42564\", \"54868\", \"49624\", \"50968\", \"48620\"]', 'pid': '[[\"83\", \"com.databricks.directory.DirectoryService\"]]', 'incomming_connections': '[[\"10.2.211.122:31313\", [\"10.2.191.185:53264\", \"clusters-database-monitor-56c5f797c7-t5d22\"], \"ESTABLISHED\", \"-\"], [\"10.2.211.122:7907\", [\"10.20.11.81:36320\", \"same_node\"], \"TIME_WAIT\", \"-\"], [\"10.2.211.122:31313\", [\"10.2.12.190:45384\", \"cons-manager-0\"], \"ESTABLISHED\", \"-\"], [\"10.2.211.122:31313\", [\"10.2.12.180:48842\", \"cluster-identity-7dc49d5fc4-fmq7f\"], \"ESTABLISHED\", \"-\"], [\"10.2.211.122:7777\", [\"10.20.11.81:40598\", \"same_node\"], \"TIME_WAIT\", \"-\"], [\"10.2.211.122:7777\", [\"10.20.11.81:43736\", \"same_node\"], \"TIME_WAIT\", \"-\"], [\"10.2.211.122:31313\", [\"10.2.211.123:8942\", \"instance-manager-5d875f84d8-f2ts8\"], \"ESTABLISHED\", \"-\"], [\"10.2.211.122:31313\", [\"10.2.191.187:48470\", \"jobs-orchestrator-74c5f446c8-5bf7f\"], \"ESTABLISHED\", \"-\"], [\"10.2.211.122:7907\", [\"10.20.11.81:36200\", \"same_node\"], \"TIME_WAIT\", \"-\"], [\"10.2.211.122:7777\", [\"10.20.11.81:40610\", \"same_node\"], \"TIME_WAIT\", \"-\"], [\"10.2.211.122:7907\", [\"10.20.11.81:50818\", \"same_node\"], \"TIME_WAIT\", \"-\"], [\"10.2.211.122:31313\", [\"10.2.152.172:44566\", \"instance-pool-659b447f59-bwndl\"], \"ESTABLISHED\", \"-\"], [\"10.2.211.122:7777\", [\"10.20.11.81:38202\", \"same_node\"], \"TIME_WAIT\", \"-\"], [\"10.2.211.122:7907\", [\"10.20.11.81:49728\", \"same_node\"], \"TIME_WAIT\", \"-\"], [\"10.2.211.122:7777\", [\"10.20.11.81:44888\", \"same_node\"], \"TIME_WAIT\", \"-\"], [\"10.2.211.122:31313\", [\"10.2.236.15:51798\", \"access-control-78c6d875b8-rk98n\"], \"ESTABLISHED\", \"-\"], [\"10.2.211.122:7907\", [\"10.20.11.81:60458\", \"same_node\"], \"TIME_WAIT\", \"-\"], [\"10.2.211.122:7777\", [\"10.20.11.81:38198\", \"same_node\"], \"TIME_WAIT\", \"-\"], [\"10.2.211.122:31313\", [\"10.2.12.184:39000\", \"jobs-housekeeper-9c7596dbc-mgm6n\"], \"ESTABLISHED\", \"-\"], [\"10.2.211.122:7777\", [\"10.20.11.81:38972\", \"same_node\"], \"TIME_WAIT\", \"-\"], [\"10.2.211.122:7777\", [\"10.20.11.81:43734\", \"same_node\"], \"TIME_WAIT\", \"-\"], [\"10.2.211.122:7907\", [\"10.20.11.81:39582\", \"same_node\"], \"TIME_WAIT\", \"-\"], [\"10.2.211.122:31313\", [\"10.2.236.17:35086\", \"cluster-manager-k8s-57f4d497bc-k6m4c\"], \"ESTABLISHED\", \"-\"], [\"10.2.211.122:31313\", [\"10.2.179.13:39228\", \"jobs-api-776b6dfbb5-fcspg\"], \"ESTABLISHED\", \"-\"], [\"10.2.211.122:31313\", [\"10.2.62.1:46140\", \"cluster-monitor-0\"], \"ESTABLISHED\", \"-\"], [\"10.2.211.122:7777\", [\"10.20.11.81:44894\", \"same_node\"], \"TIME_WAIT\", \"-\"]]', 'incomming_connected_service_names': '[]', 'incomming_connected_pod_names': '[\"clusters-database-monitor-56c5f797c7-t5d22\", \"cons-manager-0\", \"cluster-identity-7dc49d5fc4-fmq7f\", \"instance-manager-5d875f84d8-f2ts8\", \"jobs-orchestrator-74c5f446c8-5bf7f\", \"instance-pool-659b447f59-bwndl\", \"access-control-78c6d875b8-rk98n\", \"jobs-housekeeper-9c7596dbc-mgm6n\", \"cluster-manager-k8s-57f4d497bc-k6m4c\", \"jobs-api-776b6dfbb5-fcspg\", \"cluster-monitor-0\"]', 'outgoing_connections': '[[\"10.2.211.122:42660\", [\"10.3.58.124:5432\", \"test-shard-local-database-service\"], \"ESTABLISHED\", \"83/java\"], [\"10.2.211.122:50876\", [\"10.3.58.124:5432\", \"test-shard-local-database-service\"], \"ESTABLISHED\", \"83/java\"], [\"10.2.211.122:49816\", [\"10.3.58.124:5432\", \"test-shard-local-database-service\"], \"ESTABLISHED\", \"83/java\"], [\"10.2.211.122:38260\", [\"10.3.58.124:5432\", \"test-shard-local-database-service\"], \"ESTABLISHED\", \"83/java\"], [\"10.2.211.122:42852\", [\"10.3.58.124:5432\", \"test-shard-local-database-service\"], \"ESTABLISHED\", \"83/java\"], [\"10.2.211.122:51980\", [\"10.3.58.124:5432\", \"test-shard-local-database-service\"], \"ESTABLISHED\", \"83/java\"], [\"10.2.211.122:33664\", [\"10.3.58.124:5432\", \"test-shard-local-database-service\"], \"ESTABLISHED\", \"83/java\"], [\"10.2.211.122:49824\", [\"10.3.58.124:5432\", \"test-shard-local-database-service\"], \"ESTABLISHED\", \"83/java\"], [\"10.2.211.122:41322\", [\"10.3.58.124:5432\", \"test-shard-local-database-service\"], \"ESTABLISHED\", \"83/java\"], [\"10.2.211.122:39064\", [\"10.3.58.124:5432\", \"test-shard-local-database-service\"], \"ESTABLISHED\", \"83/java\"], [\"10.2.211.122:58754\", [\"52.88.177.248:443\", \"not_found\"], \"TIME_WAIT\", \"-\"], [\"10.2.211.122:59682\", [\"10.3.58.124:5432\", \"test-shard-local-database-service\"], \"ESTABLISHED\", \"83/java\"], [\"10.2.211.122:55288\", [\"10.3.58.124:5432\", \"test-shard-local-database-service\"], \"ESTABLISHED\", \"83/java\"], [\"10.2.211.122:59676\", [\"10.3.58.124:5432\", \"test-shard-local-database-service\"], \"ESTABLISHED\", \"83/java\"], [\"10.2.211.122:45806\", [\"10.3.58.124:5432\", \"test-shard-local-database-service\"], \"ESTABLISHED\", \"83/java\"], [\"10.2.211.122:56552\", [\"10.3.58.124:5432\", \"test-shard-local-database-service\"], \"ESTABLISHED\", \"83/java\"], [\"10.2.211.122:40480\", [\"10.3.58.124:5432\", \"test-shard-local-database-service\"], \"ESTABLISHED\", \"83/java\"], [\"10.2.211.122:44796\", [\"10.3.58.124:5432\", \"test-shard-local-database-service\"], \"ESTABLISHED\", \"83/java\"], [\"10.2.211.122:55510\", [\"10.3.58.124:5432\", \"test-shard-local-database-service\"], \"ESTABLISHED\", \"83/java\"], [\"10.2.211.122:50406\", [\"10.3.58.124:5432\", \"test-shard-local-database-service\"], \"ESTABLISHED\", \"83/java\"], [\"10.2.211.122:40728\", [\"10.3.58.124:5432\", \"test-shard-local-database-service\"], \"ESTABLISHED\", \"83/java\"], [\"10.2.211.122:40308\", [\"10.3.58.124:5432\", \"test-shard-local-database-service\"], \"ESTABLISHED\", \"83/java\"], [\"10.2.211.122:58578\", [\"10.3.58.124:5432\", \"test-shard-local-database-service\"], \"ESTABLISHED\", \"83/java\"], [\"10.2.211.122:42564\", [\"10.3.58.124:5432\", \"test-shard-local-database-service\"], \"ESTABLISHED\", \"83/java\"], [\"10.2.211.122:54868\", [\"10.3.58.124:5432\", \"test-shard-local-database-service\"], \"ESTABLISHED\", \"83/java\"], [\"10.2.211.122:49624\", [\"52.88.177.248:443\", \"not_found\"], \"ESTABLISHED\", \"83/java\"], [\"10.2.211.122:50968\", [\"10.3.58.124:5432\", \"test-shard-local-database-service\"], \"ESTABLISHED\", \"83/java\"]]', 'outgoing_connected_service_names': '[\"test-shard-local-database-service\"]', 'outgoing_connected_pod_names': '[]', 'size': 10, 'id': 'directory-599fdd8684-dk7bz', 'label': 'directory-599fdd8684-dk7bz', 'shape': 'dot'}\n",
      "{'color': 'red', 'pod_ip': '10.2.211.119', 'node_ip': '10.20.11.81', 'listening_ports': '[\"7777\"]', 'outgoing_ports': '[\"37740\", \"50238\", \"48886\", \"50222\", \"50702\", \"59126\", \"35830\", \"40002\", \"57780\", \"37914\", \"59648\", \"41808\", \"49708\", \"46306\", \"47818\", \"39934\", \"59336\", \"37912\", \"50686\", \"37964\", \"59646\", \"37100\", \"35840\", \"50252\"]', 'pid': '[[\"6\", \"com.databricks.elasticspark.runner.JobRunnerMain\"]]', 'incomming_connections': '[[\"10.2.211.119:7777\", [\"10.20.11.81:49302\", \"same_node\"], \"TIME_WAIT\", \"-\"], [\"10.2.211.119:7777\", [\"10.20.11.81:41634\", \"same_node\"], \"TIME_WAIT\", \"-\"]]', 'incomming_connected_service_names': '[]', 'incomming_connected_pod_names': '[]', 'outgoing_connections': '[[\"10.2.211.119:37740\", [\"10.3.58.124:3306\", \"test-shard-local-database-service\"], \"ESTABLISHED\", \"6/java\"], [\"10.2.211.119:50238\", [\"10.3.58.124:3306\", \"test-shard-local-database-service\"], \"ESTABLISHED\", \"6/java\"], [\"10.2.211.119:48886\", [\"10.3.58.124:3306\", \"test-shard-local-database-service\"], \"ESTABLISHED\", \"6/java\"], [\"10.2.211.119:50222\", [\"10.3.58.124:3306\", \"test-shard-local-database-service\"], \"ESTABLISHED\", \"6/java\"], [\"10.2.211.119:50702\", [\"10.3.58.124:3306\", \"test-shard-local-database-service\"], \"ESTABLISHED\", \"6/java\"], [\"10.2.211.119:59126\", [\"10.3.58.124:3306\", \"test-shard-local-database-service\"], \"ESTABLISHED\", \"6/java\"], [\"10.2.211.119:35830\", [\"10.3.58.124:3306\", \"test-shard-local-database-service\"], \"ESTABLISHED\", \"6/java\"], [\"10.2.211.119:40002\", [\"10.3.58.124:3306\", \"test-shard-local-database-service\"], \"ESTABLISHED\", \"6/java\"], [\"10.2.211.119:57780\", [\"10.3.58.124:3306\", \"test-shard-local-database-service\"], \"ESTABLISHED\", \"6/java\"], [\"10.2.211.119:37914\", [\"10.3.58.124:3306\", \"test-shard-local-database-service\"], \"ESTABLISHED\", \"6/java\"], [\"10.2.211.119:59648\", [\"10.3.58.124:3306\", \"test-shard-local-database-service\"], \"ESTABLISHED\", \"6/java\"], [\"10.2.211.119:41808\", [\"10.3.58.124:3306\", \"test-shard-local-database-service\"], \"ESTABLISHED\", \"6/java\"], [\"10.2.211.119:49708\", [\"10.3.58.124:3306\", \"test-shard-local-database-service\"], \"ESTABLISHED\", \"6/java\"], [\"10.2.211.119:46306\", [\"10.3.58.124:3306\", \"test-shard-local-database-service\"], \"ESTABLISHED\", \"6/java\"], [\"10.2.211.119:47818\", [\"10.3.204.127:6666\", \"cmapiserver-service\"], \"ESTABLISHED\", \"6/java\"], [\"10.2.211.119:39934\", [\"10.3.58.124:3306\", \"test-shard-local-database-service\"], \"ESTABLISHED\", \"6/java\"], [\"10.2.211.119:59336\", [\"10.3.58.124:3306\", \"test-shard-local-database-service\"], \"ESTABLISHED\", \"6/java\"], [\"10.2.211.119:37912\", [\"10.3.58.124:3306\", \"test-shard-local-database-service\"], \"ESTABLISHED\", \"6/java\"], [\"10.2.211.119:50686\", [\"10.3.58.124:3306\", \"test-shard-local-database-service\"], \"ESTABLISHED\", \"6/java\"], [\"10.2.211.119:37964\", [\"10.3.58.124:3306\", \"test-shard-local-database-service\"], \"ESTABLISHED\", \"6/java\"], [\"10.2.211.119:59646\", [\"10.3.58.124:3306\", \"test-shard-local-database-service\"], \"ESTABLISHED\", \"6/java\"], [\"10.2.211.119:37100\", [\"10.3.58.124:3306\", \"test-shard-local-database-service\"], \"ESTABLISHED\", \"6/java\"], [\"10.2.211.119:35840\", [\"10.3.58.124:3306\", \"test-shard-local-database-service\"], \"ESTABLISHED\", \"6/java\"], [\"10.2.211.119:50252\", [\"10.3.58.124:3306\", \"test-shard-local-database-service\"], \"ESTABLISHED\", \"6/java\"]]', 'outgoing_connected_service_names': '[\"test-shard-local-database-service\", \"cmapiserver-service\"]', 'outgoing_connected_pod_names': '[]', 'size': 10, 'id': 'cons-jobs-runner-9766899db-9fdjh', 'label': 'cons-jobs-runner-9766899db-9fdjh', 'shape': 'dot'}\n",
      "{'color': 'red', 'pod_ip': '10.2.191.184', 'node_ip': '10.20.9.181', 'listening_ports': '[\"7777\", \"5290\", \"6000\", \"443\"]', 'outgoing_ports': '[\"51214\", \"35606\", \"55766\", \"35220\", \"53278\", \"48332\", \"43258\", \"55760\", \"56980\", \"49224\"]', 'pid': '[[\"7\", \"com.databricks.auth.server.service.AuthService\"]]', 'incomming_connections': '[[\"10.2.191.184:7777\", [\"10.20.9.181:48466\", \"same_node\"], \"TIME_WAIT\", \"-\"]]', 'incomming_connected_service_names': '[]', 'incomming_connected_pod_names': '[]', 'outgoing_connections': '[[\"10.2.191.184:51214\", [\"10.3.58.124:3306\", \"test-shard-local-database-service\"], \"ESTABLISHED\", \"7/java\"], [\"10.2.191.184:35606\", [\"10.3.58.124:3306\", \"test-shard-local-database-service\"], \"ESTABLISHED\", \"7/java\"], [\"10.2.191.184:55766\", [\"10.3.58.124:3306\", \"test-shard-local-database-service\"], \"ESTABLISHED\", \"7/java\"], [\"10.2.191.184:35220\", [\"10.3.58.124:3306\", \"test-shard-local-database-service\"], \"ESTABLISHED\", \"7/java\"], [\"10.2.191.184:53278\", [\"10.3.58.124:3306\", \"test-shard-local-database-service\"], \"ESTABLISHED\", \"7/java\"], [\"10.2.191.184:48332\", [\"10.3.58.124:3306\", \"test-shard-local-database-service\"], \"ESTABLISHED\", \"7/java\"], [\"10.2.191.184:43258\", [\"10.3.58.124:3306\", \"test-shard-local-database-service\"], \"ESTABLISHED\", \"7/java\"], [\"10.2.191.184:55760\", [\"10.3.58.124:3306\", \"test-shard-local-database-service\"], \"ESTABLISHED\", \"7/java\"], [\"10.2.191.184:56980\", [\"10.3.58.124:3306\", \"test-shard-local-database-service\"], \"ESTABLISHED\", \"7/java\"], [\"10.2.191.184:49224\", [\"10.3.58.124:3306\", \"test-shard-local-database-service\"], \"ESTABLISHED\", \"7/java\"]]', 'outgoing_connected_service_names': '[\"test-shard-local-database-service\"]', 'outgoing_connected_pod_names': '[]', 'size': 10, 'id': 'auth-high-qps-6c786dd5b9-9wvj9', 'label': 'auth-high-qps-6c786dd5b9-9wvj9', 'shape': 'dot'}\n",
      "{'color': 'red', 'pod_ip': '10.2.61.249', 'node_ip': '10.20.11.150', 'listening_ports': '[\"61801\", \"7777\"]', 'outgoing_ports': '[\"36578\", \"60342\", \"41098\"]', 'pid': '[[\"7\", \"com.databricks.clusterlibraries.ClusterLibrariesService\"]]', 'incomming_connections': '[]', 'incomming_connected_service_names': '[]', 'incomming_connected_pod_names': '[]', 'outgoing_connections': '[[\"10.2.61.249:36578\", [\"52.94.29.210:443\", \"not_found\"], \"ESTABLISHED\", \"7/java\"], [\"10.2.61.249:60342\", [\"10.3.204.127:6666\", \"cmapiserver-service\"], \"ESTABLISHED\", \"7/java\"], [\"10.2.61.249:50608\", [\"10.3.204.127:6666\", \"cmapiserver-service\"], \"TIME_WAIT\", \"-\"], [\"10.2.61.249:41098\", [\"10.3.12.57:5290\", \"cons-auth\"], \"ESTABLISHED\", \"7/java\"], [\"10.2.61.249:53378\", [\"52.94.10.26:443\", \"not_found\"], \"TIME_WAIT\", \"-\"]]', 'outgoing_connected_service_names': '[\"cmapiserver-service\", \"cons-auth\"]', 'outgoing_connected_pod_names': '[]', 'size': 10, 'id': 'cluster-libraries-89855b5cc-zjv9z', 'label': 'cluster-libraries-89855b5cc-zjv9z', 'shape': 'dot'}\n",
      "{'color': 'red', 'pod_ip': '10.2.236.17', 'node_ip': '10.20.9.44', 'listening_ports': '[\"10086\", \"7777\"]', 'outgoing_ports': '[\"33820\", \"48174\", \"49572\", \"45004\", \"60216\", \"56654\", \"49792\", \"46948\", \"33836\", \"35086\", \"40140\", \"56638\", \"56658\"]', 'pid': '[[\"7\", \"com.databricks.clustermanagerk8s.ClusterManagerK8sService\"]]', 'incomming_connections': '[]', 'incomming_connected_service_names': '[]', 'incomming_connected_pod_names': '[]', 'outgoing_connections': '[[\"10.2.236.17:33820\", [\"10.2.30.72:9092\", \"kafka-test-shard-kafka-0\"], \"ESTABLISHED\", \"7/java\"], [\"10.2.236.17:48174\", [\"10.3.58.124:3306\", \"test-shard-local-database-service\"], \"ESTABLISHED\", \"7/java\"], [\"10.2.236.17:49572\", [\"10.3.58.124:3306\", \"test-shard-local-database-service\"], \"ESTABLISHED\", \"7/java\"], [\"10.2.236.17:45004\", [\"10.3.58.124:3306\", \"test-shard-local-database-service\"], \"ESTABLISHED\", \"7/java\"], [\"10.2.236.17:60216\", [\"10.3.58.124:3306\", \"test-shard-local-database-service\"], \"ESTABLISHED\", \"7/java\"], [\"10.2.236.17:56654\", [\"10.3.58.124:3306\", \"test-shard-local-database-service\"], \"ESTABLISHED\", \"7/java\"], [\"10.2.236.17:49792\", [\"10.3.58.124:3306\", \"test-shard-local-database-service\"], \"ESTABLISHED\", \"7/java\"], [\"10.2.236.17:46948\", [\"10.3.58.124:3306\", \"test-shard-local-database-service\"], \"ESTABLISHED\", \"7/java\"], [\"10.2.236.17:33836\", [\"10.2.30.72:9092\", \"kafka-test-shard-kafka-0\"], \"ESTABLISHED\", \"7/java\"], [\"10.2.236.17:35086\", [\"10.3.94.23:31313\", \"directory-service\"], \"ESTABLISHED\", \"7/java\"], [\"10.2.236.17:40140\", [\"10.3.58.124:3306\", \"test-shard-local-database-service\"], \"ESTABLISHED\", \"7/java\"], [\"10.2.236.17:56638\", [\"10.3.58.124:3306\", \"test-shard-local-database-service\"], \"ESTABLISHED\", \"7/java\"], [\"10.2.236.17:56658\", [\"10.3.58.124:3306\", \"test-shard-local-database-service\"], \"ESTABLISHED\", \"7/java\"]]', 'outgoing_connected_service_names': '[\"test-shard-local-database-service\", \"directory-service\"]', 'outgoing_connected_pod_names': '[\"kafka-test-shard-kafka-0\"]', 'size': 10, 'id': 'cluster-manager-k8s-57f4d497bc-k6m4c', 'label': 'cluster-manager-k8s-57f4d497bc-k6m4c', 'shape': 'dot'}\n",
      "{'color': 'red', 'pod_ip': '10.2.152.171', 'node_ip': '10.20.10.162', 'listening_ports': '[\"5555\", \"7777\"]', 'outgoing_ports': '[\"43814\"]', 'pid': '[[\"8\", \"com.databricks.backend.delegate.DelegateRPCServer\"]]', 'incomming_connections': '[]', 'incomming_connected_service_names': '[]', 'incomming_connected_pod_names': '[]', 'outgoing_connections': '[[\"10.2.152.171:43814\", [\"10.3.12.57:5290\", \"cons-auth\"], \"ESTABLISHED\", \"8/java\"], [\"10.2.152.171:42960\", [\"10.3.94.23:31313\", \"directory-service\"], \"TIME_WAIT\", \"-\"]]', 'outgoing_connected_service_names': '[\"cons-auth\", \"directory-service\"]', 'outgoing_connected_pod_names': '[]', 'size': 10, 'id': 'cons-delegate-76586f55c-b6g62', 'label': 'cons-delegate-76586f55c-b6g62', 'shape': 'dot'}\n",
      "{'color': 'red', 'pod_ip': '10.2.12.190', 'node_ip': '10.20.11.183', 'listening_ports': '[\"5050\", \"5051\", \"7777\"]', 'outgoing_ports': '[\"48344\", \"59046\", \"55440\", \"34788\", \"40042\", \"35630\", \"46438\", \"41062\", \"45332\", \"48360\", \"55428\", \"54282\", \"55816\", \"38426\", \"41302\", \"56754\", \"60390\", \"36300\", \"56722\", \"40022\", \"57786\", \"59804\", \"55462\", \"57740\", \"58352\", \"54328\", \"41296\", \"55808\", \"41034\", \"52026\", \"58370\", \"55050\", \"33100\", \"50684\", \"59066\", \"49878\", \"57770\", \"34742\", \"59820\", \"58380\", \"36310\", \"57754\", \"40994\", \"35614\", \"46486\", \"38420\", \"36160\", \"36260\", \"46490\", \"57730\", \"51434\", \"55336\", \"54300\", \"53176\", \"60374\", \"52434\", \"39994\", \"41318\", \"52016\", \"40990\", \"36918\", \"55354\", \"55040\", \"56806\", \"41268\", \"46470\", \"48094\", \"41002\", \"54340\", \"35606\", \"53180\", \"55450\", \"34778\", \"34764\", \"44060\", \"54356\", \"54296\", \"40064\", \"33134\", \"36288\", \"57750\", \"52000\", \"46446\", \"41084\", \"56714\", \"52038\", \"39714\", \"55830\", \"45384\", \"56744\", \"54314\", \"36886\", \"55014\", \"45334\", \"41012\", \"44048\", \"57784\", \"36248\", \"41282\", \"56770\", \"51398\", \"45894\", \"36900\", \"41298\", \"41048\", \"36274\", \"36234\", \"33116\", \"58366\", \"34752\", \"59062\", \"36944\", \"36906\", \"40058\", \"56708\", \"35626\", \"46500\", \"40978\", \"41038\", \"36216\", \"55044\", \"56738\", \"55840\", \"56762\", \"59038\", \"38450\", \"51414\", \"56760\", \"52024\", \"40018\", \"55382\", \"59844\", \"59018\", \"48154\", \"38434\", \"54334\", \"56792\", \"36228\", \"52426\", \"56776\", \"55346\", \"36294\", \"39730\", \"55392\", \"49872\", \"51428\", \"59022\", \"59828\", \"45344\", \"41074\", \"36930\", \"55370\", \"54364\", \"57722\", \"55438\", \"55412\", \"40038\", \"36932\", \"40020\", \"58386\", \"33132\", \"48340\", \"55024\", \"46462\", \"55398\", \"56694\"]', 'pid': '[[\"323\", \"com.databricks.backend.manager.ClusterManagerRPCServer\"]]', 'incomming_connections': '[]', 'incomming_connected_service_names': '[]', 'incomming_connected_pod_names': '[]', 'outgoing_connections': '[[\"10.2.12.190:48344\", [\"10.3.58.124:3306\", \"test-shard-local-database-service\"], \"ESTABLISHED\", \"323/java\"], [\"10.2.12.190:59046\", [\"10.3.58.124:3306\", \"test-shard-local-database-service\"], \"ESTABLISHED\", \"323/java\"], [\"10.2.12.190:55440\", [\"10.3.58.124:3306\", \"test-shard-local-database-service\"], \"ESTABLISHED\", \"323/java\"], [\"10.2.12.190:34788\", [\"10.3.58.124:3306\", \"test-shard-local-database-service\"], \"ESTABLISHED\", \"323/java\"], [\"10.2.12.190:40042\", [\"10.3.58.124:3306\", \"test-shard-local-database-service\"], \"ESTABLISHED\", \"323/java\"], [\"10.2.12.190:35630\", [\"10.3.58.124:3306\", \"test-shard-local-database-service\"], \"ESTABLISHED\", \"323/java\"], [\"10.2.12.190:46438\", [\"10.3.58.124:3306\", \"test-shard-local-database-service\"], \"ESTABLISHED\", \"323/java\"], [\"10.2.12.190:41062\", [\"10.3.58.124:3306\", \"test-shard-local-database-service\"], \"ESTABLISHED\", \"323/java\"], [\"10.2.12.190:45332\", [\"10.3.58.124:3306\", \"test-shard-local-database-service\"], \"ESTABLISHED\", \"323/java\"], [\"10.2.12.190:48360\", [\"10.3.58.124:3306\", \"test-shard-local-database-service\"], \"ESTABLISHED\", \"323/java\"], [\"10.2.12.190:55428\", [\"10.3.58.124:3306\", \"test-shard-local-database-service\"], \"ESTABLISHED\", \"323/java\"], [\"10.2.12.190:54282\", [\"10.3.58.124:3306\", \"test-shard-local-database-service\"], \"ESTABLISHED\", \"323/java\"], [\"10.2.12.190:55816\", [\"10.3.58.124:3306\", \"test-shard-local-database-service\"], \"ESTABLISHED\", \"323/java\"], [\"10.2.12.190:38426\", [\"10.3.58.124:3306\", \"test-shard-local-database-service\"], \"ESTABLISHED\", \"323/java\"], [\"10.2.12.190:41302\", [\"10.3.58.124:3306\", \"test-shard-local-database-service\"], \"ESTABLISHED\", \"323/java\"], [\"10.2.12.190:56754\", [\"10.3.58.124:3306\", \"test-shard-local-database-service\"], \"ESTABLISHED\", \"323/java\"], [\"10.2.12.190:60390\", [\"10.3.58.124:3306\", \"test-shard-local-database-service\"], \"ESTABLISHED\", \"323/java\"], [\"10.2.12.190:36300\", [\"10.3.58.124:3306\", \"test-shard-local-database-service\"], \"ESTABLISHED\", \"323/java\"], [\"10.2.12.190:56722\", [\"10.3.58.124:3306\", \"test-shard-local-database-service\"], \"ESTABLISHED\", \"323/java\"], [\"10.2.12.190:40022\", [\"10.3.58.124:3306\", \"test-shard-local-database-service\"], \"ESTABLISHED\", \"323/java\"], [\"10.2.12.190:57786\", [\"10.3.58.124:3306\", \"test-shard-local-database-service\"], \"ESTABLISHED\", \"323/java\"], [\"10.2.12.190:59804\", [\"10.3.58.124:3306\", \"test-shard-local-database-service\"], \"ESTABLISHED\", \"323/java\"], [\"10.2.12.190:55462\", [\"10.3.58.124:3306\", \"test-shard-local-database-service\"], \"ESTABLISHED\", \"323/java\"], [\"10.2.12.190:57740\", [\"10.3.58.124:3306\", \"test-shard-local-database-service\"], \"ESTABLISHED\", \"323/java\"], [\"10.2.12.190:58352\", [\"10.3.58.124:3306\", \"test-shard-local-database-service\"], \"ESTABLISHED\", \"323/java\"], [\"10.2.12.190:54328\", [\"10.3.58.124:3306\", \"test-shard-local-database-service\"], \"ESTABLISHED\", \"323/java\"], [\"10.2.12.190:41296\", [\"10.3.58.124:3306\", \"test-shard-local-database-service\"], \"ESTABLISHED\", \"323/java\"], [\"10.2.12.190:55808\", [\"10.3.58.124:3306\", \"test-shard-local-database-service\"], \"ESTABLISHED\", \"323/java\"], [\"10.2.12.190:41034\", [\"10.3.58.124:3306\", \"test-shard-local-database-service\"], \"ESTABLISHED\", \"323/java\"], [\"10.2.12.190:52026\", [\"10.3.58.124:3306\", \"test-shard-local-database-service\"], \"ESTABLISHED\", \"323/java\"], [\"10.2.12.190:58370\", [\"10.3.58.124:3306\", \"test-shard-local-database-service\"], \"ESTABLISHED\", \"323/java\"], [\"10.2.12.190:55050\", [\"10.3.58.124:3306\", \"test-shard-local-database-service\"], \"ESTABLISHED\", \"323/java\"], [\"10.2.12.190:33100\", [\"10.3.58.124:3306\", \"test-shard-local-database-service\"], \"ESTABLISHED\", \"323/java\"], [\"10.2.12.190:50684\", [\"10.3.12.57:5290\", \"cons-auth\"], \"ESTABLISHED\", \"323/java\"], [\"10.2.12.190:59066\", [\"10.3.58.124:3306\", \"test-shard-local-database-service\"], \"ESTABLISHED\", \"323/java\"], [\"10.2.12.190:49878\", [\"10.3.58.124:3306\", \"test-shard-local-database-service\"], \"ESTABLISHED\", \"323/java\"], [\"10.2.12.190:57770\", [\"10.3.58.124:3306\", \"test-shard-local-database-service\"], \"ESTABLISHED\", \"323/java\"], [\"10.2.12.190:34742\", [\"10.3.58.124:3306\", \"test-shard-local-database-service\"], \"ESTABLISHED\", \"323/java\"], [\"10.2.12.190:59820\", [\"10.3.58.124:3306\", \"test-shard-local-database-service\"], \"ESTABLISHED\", \"323/java\"], [\"10.2.12.190:58380\", [\"10.3.58.124:3306\", \"test-shard-local-database-service\"], \"ESTABLISHED\", \"323/java\"], [\"10.2.12.190:36310\", [\"10.3.58.124:3306\", \"test-shard-local-database-service\"], \"ESTABLISHED\", \"323/java\"], [\"10.2.12.190:57754\", [\"10.3.58.124:3306\", \"test-shard-local-database-service\"], \"ESTABLISHED\", \"323/java\"], [\"10.2.12.190:40994\", [\"10.3.58.124:3306\", \"test-shard-local-database-service\"], \"ESTABLISHED\", \"323/java\"], [\"10.2.12.190:35614\", [\"10.3.58.124:3306\", \"test-shard-local-database-service\"], \"ESTABLISHED\", \"323/java\"], [\"10.2.12.190:46486\", [\"10.3.58.124:3306\", \"test-shard-local-database-service\"], \"ESTABLISHED\", \"323/java\"], [\"10.2.12.190:38420\", [\"10.3.58.124:3306\", \"test-shard-local-database-service\"], \"ESTABLISHED\", \"323/java\"], [\"10.2.12.190:36160\", [\"10.3.245.111:2333\", \"instance-manager-service\"], \"ESTABLISHED\", \"323/java\"], [\"10.2.12.190:36260\", [\"10.3.58.124:3306\", \"test-shard-local-database-service\"], \"ESTABLISHED\", \"323/java\"], [\"10.2.12.190:46490\", [\"10.3.58.124:3306\", \"test-shard-local-database-service\"], \"ESTABLISHED\", \"323/java\"], [\"10.2.12.190:57730\", [\"10.3.58.124:3306\", \"test-shard-local-database-service\"], \"ESTABLISHED\", \"323/java\"], [\"10.2.12.190:51434\", [\"10.3.58.124:3306\", \"test-shard-local-database-service\"], \"ESTABLISHED\", \"323/java\"], [\"10.2.12.190:55336\", [\"10.3.58.124:3306\", \"test-shard-local-database-service\"], \"ESTABLISHED\", \"323/java\"], [\"10.2.12.190:54300\", [\"10.3.58.124:3306\", \"test-shard-local-database-service\"], \"ESTABLISHED\", \"323/java\"], [\"10.2.12.190:53176\", [\"10.3.58.124:3306\", \"test-shard-local-database-service\"], \"ESTABLISHED\", \"323/java\"], [\"10.2.12.190:60374\", [\"10.3.58.124:3306\", \"test-shard-local-database-service\"], \"ESTABLISHED\", \"323/java\"], [\"10.2.12.190:52434\", [\"10.3.58.124:3306\", \"test-shard-local-database-service\"], \"ESTABLISHED\", \"323/java\"], [\"10.2.12.190:39994\", [\"10.3.58.124:3306\", \"test-shard-local-database-service\"], \"ESTABLISHED\", \"323/java\"], [\"10.2.12.190:41318\", [\"10.3.58.124:3306\", \"test-shard-local-database-service\"], \"ESTABLISHED\", \"323/java\"], [\"10.2.12.190:52016\", [\"10.3.58.124:3306\", \"test-shard-local-database-service\"], \"ESTABLISHED\", \"323/java\"], [\"10.2.12.190:40990\", [\"10.3.58.124:3306\", \"test-shard-local-database-service\"], \"ESTABLISHED\", \"323/java\"], [\"10.2.12.190:36918\", [\"10.3.58.124:3306\", \"test-shard-local-database-service\"], \"ESTABLISHED\", \"323/java\"], [\"10.2.12.190:55354\", [\"10.3.58.124:3306\", \"test-shard-local-database-service\"], \"ESTABLISHED\", \"323/java\"], [\"10.2.12.190:55040\", [\"10.3.58.124:3306\", \"test-shard-local-database-service\"], \"ESTABLISHED\", \"323/java\"], [\"10.2.12.190:56806\", [\"10.3.58.124:3306\", \"test-shard-local-database-service\"], \"ESTABLISHED\", \"323/java\"], [\"10.2.12.190:41268\", [\"10.3.58.124:3306\", \"test-shard-local-database-service\"], \"ESTABLISHED\", \"323/java\"], [\"10.2.12.190:46470\", [\"10.3.58.124:3306\", \"test-shard-local-database-service\"], \"ESTABLISHED\", \"323/java\"], [\"10.2.12.190:48094\", [\"10.3.58.124:3306\", \"test-shard-local-database-service\"], \"ESTABLISHED\", \"323/java\"], [\"10.2.12.190:41002\", [\"10.3.58.124:3306\", \"test-shard-local-database-service\"], \"ESTABLISHED\", \"323/java\"], [\"10.2.12.190:54340\", [\"10.3.58.124:3306\", \"test-shard-local-database-service\"], \"ESTABLISHED\", \"323/java\"], [\"10.2.12.190:35606\", [\"10.3.58.124:3306\", \"test-shard-local-database-service\"], \"ESTABLISHED\", \"323/java\"], [\"10.2.12.190:53180\", [\"10.3.58.124:3306\", \"test-shard-local-database-service\"], \"ESTABLISHED\", \"323/java\"], [\"10.2.12.190:55450\", [\"10.3.58.124:3306\", \"test-shard-local-database-service\"], \"ESTABLISHED\", \"323/java\"], [\"10.2.12.190:34778\", [\"10.3.58.124:3306\", \"test-shard-local-database-service\"], \"ESTABLISHED\", \"323/java\"], [\"10.2.12.190:34764\", [\"10.3.58.124:3306\", \"test-shard-local-database-service\"], \"ESTABLISHED\", \"323/java\"], [\"10.2.12.190:44060\", [\"10.3.58.124:3306\", \"test-shard-local-database-service\"], \"ESTABLISHED\", \"323/java\"], [\"10.2.12.190:54356\", [\"10.3.58.124:3306\", \"test-shard-local-database-service\"], \"ESTABLISHED\", \"323/java\"], [\"10.2.12.190:54296\", [\"10.3.58.124:3306\", \"test-shard-local-database-service\"], \"ESTABLISHED\", \"323/java\"], [\"10.2.12.190:40064\", [\"10.3.58.124:3306\", \"test-shard-local-database-service\"], \"ESTABLISHED\", \"323/java\"], [\"10.2.12.190:33134\", [\"10.3.58.124:3306\", \"test-shard-local-database-service\"], \"ESTABLISHED\", \"323/java\"], [\"10.2.12.190:36288\", [\"10.3.58.124:3306\", \"test-shard-local-database-service\"], \"ESTABLISHED\", \"323/java\"], [\"10.2.12.190:57750\", [\"10.3.58.124:3306\", \"test-shard-local-database-service\"], \"ESTABLISHED\", \"323/java\"], [\"10.2.12.190:52000\", [\"10.3.58.124:3306\", \"test-shard-local-database-service\"], \"ESTABLISHED\", \"323/java\"], [\"10.2.12.190:46446\", [\"10.3.58.124:3306\", \"test-shard-local-database-service\"], \"ESTABLISHED\", \"323/java\"], [\"10.2.12.190:41084\", [\"10.3.58.124:3306\", \"test-shard-local-database-service\"], \"ESTABLISHED\", \"323/java\"], [\"10.2.12.190:56714\", [\"10.3.58.124:3306\", \"test-shard-local-database-service\"], \"ESTABLISHED\", \"323/java\"], [\"10.2.12.190:52038\", [\"10.3.58.124:3306\", \"test-shard-local-database-service\"], \"ESTABLISHED\", \"323/java\"], [\"10.2.12.190:39714\", [\"10.3.58.124:3306\", \"test-shard-local-database-service\"], \"ESTABLISHED\", \"323/java\"], [\"10.2.12.190:55830\", [\"10.3.58.124:3306\", \"test-shard-local-database-service\"], \"ESTABLISHED\", \"323/java\"], [\"10.2.12.190:45384\", [\"10.3.94.23:31313\", \"directory-service\"], \"ESTABLISHED\", \"323/java\"], [\"10.2.12.190:56744\", [\"10.3.58.124:3306\", \"test-shard-local-database-service\"], \"ESTABLISHED\", \"323/java\"], [\"10.2.12.190:54314\", [\"10.3.58.124:3306\", \"test-shard-local-database-service\"], \"ESTABLISHED\", \"323/java\"], [\"10.2.12.190:36886\", [\"10.3.58.124:3306\", \"test-shard-local-database-service\"], \"ESTABLISHED\", \"323/java\"], [\"10.2.12.190:55014\", [\"10.3.58.124:3306\", \"test-shard-local-database-service\"], \"ESTABLISHED\", \"323/java\"], [\"10.2.12.190:45334\", [\"10.3.58.124:3306\", \"test-shard-local-database-service\"], \"ESTABLISHED\", \"323/java\"], [\"10.2.12.190:41012\", [\"10.3.58.124:3306\", \"test-shard-local-database-service\"], \"ESTABLISHED\", \"323/java\"], [\"10.2.12.190:44048\", [\"10.3.58.124:3306\", \"test-shard-local-database-service\"], \"ESTABLISHED\", \"323/java\"], [\"10.2.12.190:57784\", [\"10.3.58.124:3306\", \"test-shard-local-database-service\"], \"ESTABLISHED\", \"323/java\"], [\"10.2.12.190:36248\", [\"10.3.58.124:3306\", \"test-shard-local-database-service\"], \"ESTABLISHED\", \"323/java\"], [\"10.2.12.190:41282\", [\"10.3.58.124:3306\", \"test-shard-local-database-service\"], \"ESTABLISHED\", \"323/java\"], [\"10.2.12.190:56770\", [\"10.3.58.124:3306\", \"test-shard-local-database-service\"], \"ESTABLISHED\", \"323/java\"], [\"10.2.12.190:51398\", [\"10.3.58.124:3306\", \"test-shard-local-database-service\"], \"ESTABLISHED\", \"323/java\"], [\"10.2.12.190:45894\", [\"10.3.58.124:3306\", \"test-shard-local-database-service\"], \"ESTABLISHED\", \"323/java\"], [\"10.2.12.190:36900\", [\"10.3.58.124:3306\", \"test-shard-local-database-service\"], \"ESTABLISHED\", \"323/java\"], [\"10.2.12.190:41298\", [\"10.3.58.124:3306\", \"test-shard-local-database-service\"], \"ESTABLISHED\", \"323/java\"], [\"10.2.12.190:41048\", [\"10.3.58.124:3306\", \"test-shard-local-database-service\"], \"ESTABLISHED\", \"323/java\"], [\"10.2.12.190:36274\", [\"10.3.58.124:3306\", \"test-shard-local-database-service\"], \"ESTABLISHED\", \"323/java\"], [\"10.2.12.190:36234\", [\"10.3.58.124:3306\", \"test-shard-local-database-service\"], \"ESTABLISHED\", \"323/java\"], [\"10.2.12.190:33116\", [\"10.3.58.124:3306\", \"test-shard-local-database-service\"], \"ESTABLISHED\", \"323/java\"], [\"10.2.12.190:58366\", [\"10.3.58.124:3306\", \"test-shard-local-database-service\"], \"ESTABLISHED\", \"323/java\"], [\"10.2.12.190:34752\", [\"10.3.58.124:3306\", \"test-shard-local-database-service\"], \"ESTABLISHED\", \"323/java\"], [\"10.2.12.190:59062\", [\"10.3.58.124:3306\", \"test-shard-local-database-service\"], \"ESTABLISHED\", \"323/java\"], [\"10.2.12.190:36944\", [\"10.3.58.124:3306\", \"test-shard-local-database-service\"], \"ESTABLISHED\", \"323/java\"], [\"10.2.12.190:36906\", [\"10.3.58.124:3306\", \"test-shard-local-database-service\"], \"ESTABLISHED\", \"323/java\"], [\"10.2.12.190:40058\", [\"10.3.58.124:3306\", \"test-shard-local-database-service\"], \"ESTABLISHED\", \"323/java\"], [\"10.2.12.190:56708\", [\"10.3.58.124:3306\", \"test-shard-local-database-service\"], \"ESTABLISHED\", \"323/java\"], [\"10.2.12.190:35626\", [\"10.3.58.124:3306\", \"test-shard-local-database-service\"], \"ESTABLISHED\", \"323/java\"], [\"10.2.12.190:46500\", [\"10.3.58.124:3306\", \"test-shard-local-database-service\"], \"ESTABLISHED\", \"323/java\"], [\"10.2.12.190:40978\", [\"10.3.58.124:3306\", \"test-shard-local-database-service\"], \"ESTABLISHED\", \"323/java\"], [\"10.2.12.190:41038\", [\"10.3.58.124:3306\", \"test-shard-local-database-service\"], \"ESTABLISHED\", \"323/java\"], [\"10.2.12.190:36216\", [\"10.3.58.124:3306\", \"test-shard-local-database-service\"], \"ESTABLISHED\", \"323/java\"], [\"10.2.12.190:55044\", [\"10.3.58.124:3306\", \"test-shard-local-database-service\"], \"ESTABLISHED\", \"323/java\"], [\"10.2.12.190:56738\", [\"10.3.58.124:3306\", \"test-shard-local-database-service\"], \"ESTABLISHED\", \"323/java\"], [\"10.2.12.190:55840\", [\"10.3.58.124:3306\", \"test-shard-local-database-service\"], \"ESTABLISHED\", \"323/java\"], [\"10.2.12.190:56762\", [\"10.3.58.124:3306\", \"test-shard-local-database-service\"], \"ESTABLISHED\", \"323/java\"], [\"10.2.12.190:59038\", [\"10.3.58.124:3306\", \"test-shard-local-database-service\"], \"ESTABLISHED\", \"323/java\"], [\"10.2.12.190:38450\", [\"10.3.58.124:3306\", \"test-shard-local-database-service\"], \"ESTABLISHED\", \"323/java\"], [\"10.2.12.190:51414\", [\"10.3.58.124:3306\", \"test-shard-local-database-service\"], \"ESTABLISHED\", \"323/java\"], [\"10.2.12.190:56760\", [\"10.3.58.124:3306\", \"test-shard-local-database-service\"], \"ESTABLISHED\", \"323/java\"], [\"10.2.12.190:52024\", [\"10.3.58.124:3306\", \"test-shard-local-database-service\"], \"ESTABLISHED\", \"323/java\"], [\"10.2.12.190:40018\", [\"10.3.58.124:3306\", \"test-shard-local-database-service\"], \"ESTABLISHED\", \"323/java\"], [\"10.2.12.190:55382\", [\"10.3.58.124:3306\", \"test-shard-local-database-service\"], \"ESTABLISHED\", \"323/java\"], [\"10.2.12.190:59844\", [\"10.3.58.124:3306\", \"test-shard-local-database-service\"], \"ESTABLISHED\", \"323/java\"], [\"10.2.12.190:59018\", [\"10.3.58.124:3306\", \"test-shard-local-database-service\"], \"ESTABLISHED\", \"323/java\"], [\"10.2.12.190:48154\", [\"10.3.58.124:3306\", \"test-shard-local-database-service\"], \"ESTABLISHED\", \"323/java\"], [\"10.2.12.190:38434\", [\"10.3.58.124:3306\", \"test-shard-local-database-service\"], \"ESTABLISHED\", \"323/java\"], [\"10.2.12.190:54334\", [\"10.3.58.124:3306\", \"test-shard-local-database-service\"], \"ESTABLISHED\", \"323/java\"], [\"10.2.12.190:56792\", [\"10.3.58.124:3306\", \"test-shard-local-database-service\"], \"ESTABLISHED\", \"323/java\"], [\"10.2.12.190:36228\", [\"10.3.58.124:3306\", \"test-shard-local-database-service\"], \"ESTABLISHED\", \"323/java\"], [\"10.2.12.190:52426\", [\"10.3.58.124:3306\", \"test-shard-local-database-service\"], \"ESTABLISHED\", \"323/java\"], [\"10.2.12.190:56776\", [\"10.3.58.124:3306\", \"test-shard-local-database-service\"], \"ESTABLISHED\", \"323/java\"], [\"10.2.12.190:55346\", [\"10.3.58.124:3306\", \"test-shard-local-database-service\"], \"ESTABLISHED\", \"323/java\"], [\"10.2.12.190:36294\", [\"10.3.58.124:3306\", \"test-shard-local-database-service\"], \"ESTABLISHED\", \"323/java\"], [\"10.2.12.190:39730\", [\"10.3.58.124:3306\", \"test-shard-local-database-service\"], \"ESTABLISHED\", \"323/java\"], [\"10.2.12.190:55392\", [\"10.3.58.124:3306\", \"test-shard-local-database-service\"], \"ESTABLISHED\", \"323/java\"], [\"10.2.12.190:49872\", [\"10.3.58.124:3306\", \"test-shard-local-database-service\"], \"ESTABLISHED\", \"323/java\"], [\"10.2.12.190:51428\", [\"10.3.58.124:3306\", \"test-shard-local-database-service\"], \"ESTABLISHED\", \"323/java\"], [\"10.2.12.190:59022\", [\"10.3.58.124:3306\", \"test-shard-local-database-service\"], \"ESTABLISHED\", \"323/java\"], [\"10.2.12.190:59828\", [\"10.3.58.124:3306\", \"test-shard-local-database-service\"], \"ESTABLISHED\", \"323/java\"], [\"10.2.12.190:45344\", [\"10.3.58.124:3306\", \"test-shard-local-database-service\"], \"ESTABLISHED\", \"323/java\"], [\"10.2.12.190:41074\", [\"10.3.58.124:3306\", \"test-shard-local-database-service\"], \"ESTABLISHED\", \"323/java\"], [\"10.2.12.190:36930\", [\"10.3.58.124:3306\", \"test-shard-local-database-service\"], \"ESTABLISHED\", \"323/java\"], [\"10.2.12.190:55370\", [\"10.3.58.124:3306\", \"test-shard-local-database-service\"], \"ESTABLISHED\", \"323/java\"], [\"10.2.12.190:54364\", [\"10.3.58.124:3306\", \"test-shard-local-database-service\"], \"ESTABLISHED\", \"323/java\"], [\"10.2.12.190:57722\", [\"10.3.58.124:3306\", \"test-shard-local-database-service\"], \"ESTABLISHED\", \"323/java\"], [\"10.2.12.190:55438\", [\"10.3.58.124:3306\", \"test-shard-local-database-service\"], \"ESTABLISHED\", \"323/java\"], [\"10.2.12.190:55412\", [\"10.3.58.124:3306\", \"test-shard-local-database-service\"], \"ESTABLISHED\", \"323/java\"], [\"10.2.12.190:40038\", [\"10.3.58.124:3306\", \"test-shard-local-database-service\"], \"ESTABLISHED\", \"323/java\"], [\"10.2.12.190:36932\", [\"10.3.58.124:3306\", \"test-shard-local-database-service\"], \"ESTABLISHED\", \"323/java\"], [\"10.2.12.190:40020\", [\"10.3.58.124:3306\", \"test-shard-local-database-service\"], \"ESTABLISHED\", \"323/java\"], [\"10.2.12.190:58386\", [\"10.3.58.124:3306\", \"test-shard-local-database-service\"], \"ESTABLISHED\", \"323/java\"], [\"10.2.12.190:33132\", [\"10.3.58.124:3306\", \"test-shard-local-database-service\"], \"ESTABLISHED\", \"323/java\"], [\"10.2.12.190:48340\", [\"10.3.58.124:3306\", \"test-shard-local-database-service\"], \"ESTABLISHED\", \"323/java\"], [\"10.2.12.190:55024\", [\"10.3.58.124:3306\", \"test-shard-local-database-service\"], \"ESTABLISHED\", \"323/java\"], [\"10.2.12.190:46462\", [\"10.3.58.124:3306\", \"test-shard-local-database-service\"], \"ESTABLISHED\", \"323/java\"], [\"10.2.12.190:55398\", [\"10.3.58.124:3306\", \"test-shard-local-database-service\"], \"ESTABLISHED\", \"323/java\"], [\"10.2.12.190:56694\", [\"10.3.58.124:3306\", \"test-shard-local-database-service\"], \"ESTABLISHED\", \"323/java\"]]', 'outgoing_connected_service_names': '[\"test-shard-local-database-service\", \"cons-auth\", \"instance-manager-service\", \"directory-service\"]', 'outgoing_connected_pod_names': '[]', 'size': 10, 'id': 'cons-manager-0', 'label': 'cons-manager-0', 'shape': 'dot'}\n",
      "{'color': 'red', 'pod_ip': '10.2.211.120', 'node_ip': '10.20.11.81', 'listening_ports': '[\"7777\", \"7500\"]', 'outgoing_ports': '[\"43828\"]', 'pid': '[[\"4127\", \"process_name_not_found\"]]', 'incomming_connections': '[]', 'incomming_connected_service_names': '[]', 'incomming_connected_pod_names': '[]', 'outgoing_connections': '[[\"10.2.211.120:43828\", [\"10.3.12.57:5290\", \"cons-auth\"], \"ESTABLISHED\", \"4127/java\"]]', 'outgoing_connected_service_names': '[\"cons-auth\"]', 'outgoing_connected_pod_names': '[]', 'size': 10, 'id': 'cons-s3-commit-84dd85fcf6-bmxzx', 'label': 'cons-s3-commit-84dd85fcf6-bmxzx', 'shape': 'dot'}\n",
      "{'color': 'red', 'pod_ip': '10.2.211.121', 'node_ip': '10.20.11.81', 'listening_ports': '[\"7777\", \"7075\", \"7076\"]', 'outgoing_ports': '[\"56444\"]', 'pid': '[[\"148485\", \"process_name_not_found\"]]', 'incomming_connections': '[]', 'incomming_connected_service_names': '[]', 'incomming_connected_pod_names': '[]', 'outgoing_connections': '[[\"10.2.211.121:56444\", [\"10.3.12.57:5290\", \"cons-auth\"], \"ESTABLISHED\", \"148485/java\"], [\"10.2.211.121:41414\", [\"10.3.12.57:5290\", \"cons-auth\"], \"TIME_WAIT\", \"-\"]]', 'outgoing_connected_service_names': '[\"cons-auth\"]', 'outgoing_connected_pod_names': '[]', 'size': 10, 'id': 'cons-sisyphus-74ddbdc456-99g8v', 'label': 'cons-sisyphus-74ddbdc456-99g8v', 'shape': 'dot'}\n",
      "{'color': 'red', 'pod_ip': '10.2.191.189', 'node_ip': '10.20.9.181', 'listening_ports': '[\"7777\", \"15213\"]', 'outgoing_ports': '[\"47984\", \"40386\", \"57924\", \"58610\", \"47994\", \"47058\", \"58612\", \"46722\", \"33672\", \"53862\", \"53932\", \"35654\", \"33448\", \"37042\", \"40374\", \"49188\", \"42782\", \"46046\", \"57224\", \"39352\", \"37812\", \"57896\", \"43992\", \"49216\", \"57908\", \"43962\", \"57890\", \"49208\", \"47046\", \"46734\", \"43062\", \"57886\", \"53918\", \"53898\", \"47074\", \"33434\", \"43042\", \"49198\", \"55742\", \"43018\", \"33670\", \"60606\", \"53904\", \"50790\", \"37816\", \"43034\", \"37524\", \"39356\", \"44010\", \"42776\", \"43078\", \"35658\", \"43998\", \"46032\", \"47992\", \"58074\", \"60634\", \"43054\", \"57240\", \"46720\", \"55300\", \"33516\", \"53892\", \"55284\", \"34538\", \"58088\", \"33528\", \"43978\", \"33454\", \"42764\", \"35682\", \"49202\", \"40358\", \"35694\", \"47042\", \"52412\", \"40384\", \"33518\", \"60594\", \"54058\", \"57874\", \"58078\", \"46038\", \"55266\", \"35668\", \"37044\", \"44596\", \"39020\", \"43036\", \"60618\", \"57858\", \"46052\", \"55312\", \"52404\", \"39344\", \"46016\", \"55320\", \"55268\", \"39354\", \"55260\", \"35708\", \"53878\", \"43058\", \"57236\"]', 'pid': '[[\"7\", \"com.databricks.managedcatalog.ManagedCatalogService\"]]', 'incomming_connections': '[]', 'incomming_connected_service_names': '[]', 'incomming_connected_pod_names': '[]', 'outgoing_connections': '[[\"10.2.191.189:47984\", [\"10.3.58.124:3306\", \"test-shard-local-database-service\"], \"ESTABLISHED\", \"7/java\"], [\"10.2.191.189:40386\", [\"10.3.58.124:3306\", \"test-shard-local-database-service\"], \"ESTABLISHED\", \"7/java\"], [\"10.2.191.189:57924\", [\"10.3.58.124:3306\", \"test-shard-local-database-service\"], \"ESTABLISHED\", \"7/java\"], [\"10.2.191.189:58610\", [\"10.3.58.124:3306\", \"test-shard-local-database-service\"], \"ESTABLISHED\", \"7/java\"], [\"10.2.191.189:47994\", [\"10.3.58.124:3306\", \"test-shard-local-database-service\"], \"ESTABLISHED\", \"7/java\"], [\"10.2.191.189:47058\", [\"10.3.58.124:3306\", \"test-shard-local-database-service\"], \"ESTABLISHED\", \"7/java\"], [\"10.2.191.189:58612\", [\"10.3.58.124:3306\", \"test-shard-local-database-service\"], \"ESTABLISHED\", \"7/java\"], [\"10.2.191.189:46722\", [\"10.3.58.124:3306\", \"test-shard-local-database-service\"], \"ESTABLISHED\", \"7/java\"], [\"10.2.191.189:33672\", [\"10.3.58.124:3306\", \"test-shard-local-database-service\"], \"ESTABLISHED\", \"7/java\"], [\"10.2.191.189:53862\", [\"10.3.58.124:3306\", \"test-shard-local-database-service\"], \"ESTABLISHED\", \"7/java\"], [\"10.2.191.189:53932\", [\"10.3.58.124:3306\", \"test-shard-local-database-service\"], \"ESTABLISHED\", \"7/java\"], [\"10.2.191.189:35654\", [\"10.3.58.124:3306\", \"test-shard-local-database-service\"], \"ESTABLISHED\", \"7/java\"], [\"10.2.191.189:33448\", [\"10.3.58.124:3306\", \"test-shard-local-database-service\"], \"ESTABLISHED\", \"7/java\"], [\"10.2.191.189:37042\", [\"10.3.58.124:3306\", \"test-shard-local-database-service\"], \"ESTABLISHED\", \"7/java\"], [\"10.2.191.189:40374\", [\"10.3.58.124:3306\", \"test-shard-local-database-service\"], \"ESTABLISHED\", \"7/java\"], [\"10.2.191.189:49188\", [\"10.3.58.124:3306\", \"test-shard-local-database-service\"], \"ESTABLISHED\", \"7/java\"], [\"10.2.191.189:42782\", [\"10.3.58.124:3306\", \"test-shard-local-database-service\"], \"ESTABLISHED\", \"7/java\"], [\"10.2.191.189:46046\", [\"10.3.58.124:3306\", \"test-shard-local-database-service\"], \"ESTABLISHED\", \"7/java\"], [\"10.2.191.189:57224\", [\"10.3.58.124:3306\", \"test-shard-local-database-service\"], \"ESTABLISHED\", \"7/java\"], [\"10.2.191.189:39352\", [\"10.3.58.124:3306\", \"test-shard-local-database-service\"], \"ESTABLISHED\", \"7/java\"], [\"10.2.191.189:37812\", [\"10.3.58.124:3306\", \"test-shard-local-database-service\"], \"ESTABLISHED\", \"7/java\"], [\"10.2.191.189:57896\", [\"10.3.58.124:3306\", \"test-shard-local-database-service\"], \"ESTABLISHED\", \"7/java\"], [\"10.2.191.189:43992\", [\"10.3.58.124:3306\", \"test-shard-local-database-service\"], \"ESTABLISHED\", \"7/java\"], [\"10.2.191.189:49216\", [\"10.3.58.124:3306\", \"test-shard-local-database-service\"], \"ESTABLISHED\", \"7/java\"], [\"10.2.191.189:57908\", [\"10.3.58.124:3306\", \"test-shard-local-database-service\"], \"ESTABLISHED\", \"7/java\"], [\"10.2.191.189:43962\", [\"10.3.58.124:3306\", \"test-shard-local-database-service\"], \"ESTABLISHED\", \"7/java\"], [\"10.2.191.189:57890\", [\"10.3.58.124:3306\", \"test-shard-local-database-service\"], \"ESTABLISHED\", \"7/java\"], [\"10.2.191.189:49208\", [\"10.3.58.124:3306\", \"test-shard-local-database-service\"], \"ESTABLISHED\", \"7/java\"], [\"10.2.191.189:47046\", [\"10.3.58.124:3306\", \"test-shard-local-database-service\"], \"ESTABLISHED\", \"7/java\"], [\"10.2.191.189:46734\", [\"10.3.58.124:3306\", \"test-shard-local-database-service\"], \"ESTABLISHED\", \"7/java\"], [\"10.2.191.189:43062\", [\"10.3.58.124:3306\", \"test-shard-local-database-service\"], \"ESTABLISHED\", \"7/java\"], [\"10.2.191.189:57886\", [\"10.3.58.124:3306\", \"test-shard-local-database-service\"], \"ESTABLISHED\", \"7/java\"], [\"10.2.191.189:53918\", [\"10.3.58.124:3306\", \"test-shard-local-database-service\"], \"ESTABLISHED\", \"7/java\"], [\"10.2.191.189:53898\", [\"10.3.58.124:3306\", \"test-shard-local-database-service\"], \"ESTABLISHED\", \"7/java\"], [\"10.2.191.189:47074\", [\"10.3.58.124:3306\", \"test-shard-local-database-service\"], \"ESTABLISHED\", \"7/java\"], [\"10.2.191.189:33434\", [\"10.3.58.124:3306\", \"test-shard-local-database-service\"], \"ESTABLISHED\", \"7/java\"], [\"10.2.191.189:43042\", [\"10.3.58.124:3306\", \"test-shard-local-database-service\"], \"ESTABLISHED\", \"7/java\"], [\"10.2.191.189:49198\", [\"10.3.58.124:3306\", \"test-shard-local-database-service\"], \"ESTABLISHED\", \"7/java\"], [\"10.2.191.189:55742\", [\"10.3.58.124:3306\", \"test-shard-local-database-service\"], \"ESTABLISHED\", \"7/java\"], [\"10.2.191.189:43018\", [\"10.3.58.124:3306\", \"test-shard-local-database-service\"], \"ESTABLISHED\", \"7/java\"], [\"10.2.191.189:33670\", [\"10.3.58.124:3306\", \"test-shard-local-database-service\"], \"ESTABLISHED\", \"7/java\"], [\"10.2.191.189:60606\", [\"10.3.58.124:3306\", \"test-shard-local-database-service\"], \"ESTABLISHED\", \"7/java\"], [\"10.2.191.189:53904\", [\"10.3.58.124:3306\", \"test-shard-local-database-service\"], \"ESTABLISHED\", \"7/java\"], [\"10.2.191.189:50790\", [\"10.3.58.124:3306\", \"test-shard-local-database-service\"], \"ESTABLISHED\", \"7/java\"], [\"10.2.191.189:37816\", [\"10.3.58.124:3306\", \"test-shard-local-database-service\"], \"ESTABLISHED\", \"7/java\"], [\"10.2.191.189:43034\", [\"10.3.58.124:3306\", \"test-shard-local-database-service\"], \"ESTABLISHED\", \"7/java\"], [\"10.2.191.189:37524\", [\"10.3.58.124:3306\", \"test-shard-local-database-service\"], \"ESTABLISHED\", \"7/java\"], [\"10.2.191.189:39356\", [\"10.3.58.124:3306\", \"test-shard-local-database-service\"], \"ESTABLISHED\", \"7/java\"], [\"10.2.191.189:44010\", [\"10.3.58.124:3306\", \"test-shard-local-database-service\"], \"ESTABLISHED\", \"7/java\"], [\"10.2.191.189:42776\", [\"10.3.58.124:3306\", \"test-shard-local-database-service\"], \"ESTABLISHED\", \"7/java\"], [\"10.2.191.189:43078\", [\"10.3.58.124:3306\", \"test-shard-local-database-service\"], \"ESTABLISHED\", \"7/java\"], [\"10.2.191.189:35658\", [\"10.3.58.124:3306\", \"test-shard-local-database-service\"], \"ESTABLISHED\", \"7/java\"], [\"10.2.191.189:43998\", [\"10.3.58.124:3306\", \"test-shard-local-database-service\"], \"ESTABLISHED\", \"7/java\"], [\"10.2.191.189:46032\", [\"10.3.58.124:3306\", \"test-shard-local-database-service\"], \"ESTABLISHED\", \"7/java\"], [\"10.2.191.189:47992\", [\"10.3.58.124:3306\", \"test-shard-local-database-service\"], \"ESTABLISHED\", \"7/java\"], [\"10.2.191.189:58074\", [\"10.3.58.124:3306\", \"test-shard-local-database-service\"], \"ESTABLISHED\", \"7/java\"], [\"10.2.191.189:60634\", [\"10.3.58.124:3306\", \"test-shard-local-database-service\"], \"ESTABLISHED\", \"7/java\"], [\"10.2.191.189:43054\", [\"10.3.58.124:3306\", \"test-shard-local-database-service\"], \"ESTABLISHED\", \"7/java\"], [\"10.2.191.189:57240\", [\"10.3.58.124:3306\", \"test-shard-local-database-service\"], \"ESTABLISHED\", \"7/java\"], [\"10.2.191.189:46720\", [\"10.3.58.124:3306\", \"test-shard-local-database-service\"], \"ESTABLISHED\", \"7/java\"], [\"10.2.191.189:55300\", [\"10.3.58.124:3306\", \"test-shard-local-database-service\"], \"ESTABLISHED\", \"7/java\"], [\"10.2.191.189:33516\", [\"10.3.58.124:3306\", \"test-shard-local-database-service\"], \"ESTABLISHED\", \"7/java\"], [\"10.2.191.189:53892\", [\"10.3.58.124:3306\", \"test-shard-local-database-service\"], \"ESTABLISHED\", \"7/java\"], [\"10.2.191.189:55284\", [\"10.3.58.124:3306\", \"test-shard-local-database-service\"], \"ESTABLISHED\", \"7/java\"], [\"10.2.191.189:34538\", [\"10.3.58.124:3306\", \"test-shard-local-database-service\"], \"ESTABLISHED\", \"7/java\"], [\"10.2.191.189:58088\", [\"10.3.58.124:3306\", \"test-shard-local-database-service\"], \"ESTABLISHED\", \"7/java\"], [\"10.2.191.189:33528\", [\"10.3.58.124:3306\", \"test-shard-local-database-service\"], \"ESTABLISHED\", \"7/java\"], [\"10.2.191.189:43978\", [\"10.3.58.124:3306\", \"test-shard-local-database-service\"], \"ESTABLISHED\", \"7/java\"], [\"10.2.191.189:33454\", [\"10.3.58.124:3306\", \"test-shard-local-database-service\"], \"ESTABLISHED\", \"7/java\"], [\"10.2.191.189:42764\", [\"10.3.58.124:3306\", \"test-shard-local-database-service\"], \"ESTABLISHED\", \"7/java\"], [\"10.2.191.189:35682\", [\"10.3.58.124:3306\", \"test-shard-local-database-service\"], \"ESTABLISHED\", \"7/java\"], [\"10.2.191.189:49202\", [\"10.3.58.124:3306\", \"test-shard-local-database-service\"], \"ESTABLISHED\", \"7/java\"], [\"10.2.191.189:40358\", [\"44.234.200.33:443\", \"not_found\"], \"ESTABLISHED\", \"7/java\"], [\"10.2.191.189:35694\", [\"10.3.58.124:3306\", \"test-shard-local-database-service\"], \"ESTABLISHED\", \"7/java\"], [\"10.2.191.189:47042\", [\"10.3.58.124:3306\", \"test-shard-local-database-service\"], \"ESTABLISHED\", \"7/java\"], [\"10.2.191.189:52412\", [\"10.3.58.124:3306\", \"test-shard-local-database-service\"], \"ESTABLISHED\", \"7/java\"], [\"10.2.191.189:40384\", [\"10.3.58.124:3306\", \"test-shard-local-database-service\"], \"ESTABLISHED\", \"7/java\"], [\"10.2.191.189:33518\", [\"10.3.58.124:3306\", \"test-shard-local-database-service\"], \"ESTABLISHED\", \"7/java\"], [\"10.2.191.189:60594\", [\"10.3.58.124:3306\", \"test-shard-local-database-service\"], \"ESTABLISHED\", \"7/java\"], [\"10.2.191.189:54058\", [\"10.3.58.124:3306\", \"test-shard-local-database-service\"], \"ESTABLISHED\", \"7/java\"], [\"10.2.191.189:57874\", [\"10.3.58.124:3306\", \"test-shard-local-database-service\"], \"ESTABLISHED\", \"7/java\"], [\"10.2.191.189:58078\", [\"10.3.58.124:3306\", \"test-shard-local-database-service\"], \"ESTABLISHED\", \"7/java\"], [\"10.2.191.189:46038\", [\"10.3.58.124:3306\", \"test-shard-local-database-service\"], \"ESTABLISHED\", \"7/java\"], [\"10.2.191.189:55266\", [\"10.3.58.124:3306\", \"test-shard-local-database-service\"], \"ESTABLISHED\", \"7/java\"], [\"10.2.191.189:35668\", [\"10.3.58.124:3306\", \"test-shard-local-database-service\"], \"ESTABLISHED\", \"7/java\"], [\"10.2.191.189:37044\", [\"10.3.58.124:3306\", \"test-shard-local-database-service\"], \"ESTABLISHED\", \"7/java\"], [\"10.2.191.189:44596\", [\"10.3.58.124:3306\", \"test-shard-local-database-service\"], \"ESTABLISHED\", \"7/java\"], [\"10.2.191.189:39020\", [\"10.3.58.124:3306\", \"test-shard-local-database-service\"], \"ESTABLISHED\", \"7/java\"], [\"10.2.191.189:43036\", [\"10.3.58.124:3306\", \"test-shard-local-database-service\"], \"ESTABLISHED\", \"7/java\"], [\"10.2.191.189:60618\", [\"10.3.58.124:3306\", \"test-shard-local-database-service\"], \"ESTABLISHED\", \"7/java\"], [\"10.2.191.189:57858\", [\"10.3.58.124:3306\", \"test-shard-local-database-service\"], \"ESTABLISHED\", \"7/java\"], [\"10.2.191.189:46052\", [\"10.3.58.124:3306\", \"test-shard-local-database-service\"], \"ESTABLISHED\", \"7/java\"], [\"10.2.191.189:55312\", [\"10.3.58.124:3306\", \"test-shard-local-database-service\"], \"ESTABLISHED\", \"7/java\"], [\"10.2.191.189:52404\", [\"10.3.58.124:3306\", \"test-shard-local-database-service\"], \"ESTABLISHED\", \"7/java\"], [\"10.2.191.189:39344\", [\"10.3.58.124:3306\", \"test-shard-local-database-service\"], \"ESTABLISHED\", \"7/java\"], [\"10.2.191.189:46016\", [\"10.3.58.124:3306\", \"test-shard-local-database-service\"], \"ESTABLISHED\", \"7/java\"], [\"10.2.191.189:55320\", [\"10.3.58.124:3306\", \"test-shard-local-database-service\"], \"ESTABLISHED\", \"7/java\"], [\"10.2.191.189:55268\", [\"10.3.58.124:3306\", \"test-shard-local-database-service\"], \"ESTABLISHED\", \"7/java\"], [\"10.2.191.189:39354\", [\"10.3.58.124:3306\", \"test-shard-local-database-service\"], \"ESTABLISHED\", \"7/java\"], [\"10.2.191.189:55260\", [\"10.3.58.124:3306\", \"test-shard-local-database-service\"], \"ESTABLISHED\", \"7/java\"], [\"10.2.191.189:35708\", [\"10.3.58.124:3306\", \"test-shard-local-database-service\"], \"ESTABLISHED\", \"7/java\"], [\"10.2.191.189:53878\", [\"10.3.58.124:3306\", \"test-shard-local-database-service\"], \"ESTABLISHED\", \"7/java\"], [\"10.2.191.189:43058\", [\"10.3.58.124:3306\", \"test-shard-local-database-service\"], \"ESTABLISHED\", \"7/java\"], [\"10.2.191.189:57236\", [\"10.3.58.124:3306\", \"test-shard-local-database-service\"], \"ESTABLISHED\", \"7/java\"]]', 'outgoing_connected_service_names': '[\"test-shard-local-database-service\"]', 'outgoing_connected_pod_names': '[]', 'size': 10, 'id': 'managed-catalog-b5685957-sk28b', 'label': 'managed-catalog-b5685957-sk28b', 'shape': 'dot'}\n",
      "{'color': 'red', 'pod_ip': '10.2.62.0', 'node_ip': '10.20.11.150', 'listening_ports': '[\"7777\", \"7075\", \"7076\"]', 'outgoing_ports': '[\"56004\"]', 'pid': '[[\"6\", \"com.databricks.backend.daemon.data.server.meta.MetaService\"]]', 'incomming_connections': '[]', 'incomming_connected_service_names': '[]', 'incomming_connected_pod_names': '[]', 'outgoing_connections': '[[\"10.2.62.0:56004\", [\"10.3.12.57:5290\", \"cons-auth\"], \"ESTABLISHED\", \"6/java\"]]', 'outgoing_connected_service_names': '[\"cons-auth\"]', 'outgoing_connected_pod_names': '[]', 'size': 10, 'id': 'sqlacl-sisyphus-c4fb4d997-cpmxz', 'label': 'sqlacl-sisyphus-c4fb4d997-cpmxz', 'shape': 'dot'}\n",
      "{'color': 'red', 'pod_ip': '10.2.236.18', 'node_ip': '10.20.9.44', 'listening_ports': '[\"5431\", \"5432\", \"7777\"]', 'outgoing_ports': '[]', 'pid': '[[\"7\", \"com.databricks.sparkhistoryserver.SparkHistoryServerServiceMain\"]]', 'incomming_connections': '[]', 'incomming_connected_service_names': '[]', 'incomming_connected_pod_names': '[]', 'outgoing_connections': '[]', 'outgoing_connected_service_names': '[]', 'outgoing_connected_pod_names': '[]', 'size': 10, 'id': 'cons-shs-8589bdf6c6-rddhj', 'label': 'cons-shs-8589bdf6c6-rddhj', 'shape': 'dot'}\n",
      "{'color': 'red', 'pod_ip': '10.2.152.177', 'node_ip': '10.20.10.162', 'listening_ports': '[]', 'outgoing_ports': '[]', 'pid': '[]', 'incomming_connections': '[]', 'incomming_connected_service_names': '[]', 'incomming_connected_pod_names': '[]', 'outgoing_connections': '[]', 'outgoing_connected_service_names': '[]', 'outgoing_connected_pod_names': '[]', 'size': 10, 'id': 'strimzi-cluster-operator-5b55f5b6-qvmjl', 'label': 'strimzi-cluster-operator-5b55f5b6-qvmjl', 'shape': 'dot'}\n"
     ]
    }
   ],
   "source": [
    "for node in nt.nodes:\n",
    "    if node['id'] in priv_list:\n",
    "        print(node)"
   ]
  },
  {
   "cell_type": "code",
   "execution_count": 60,
   "metadata": {},
   "outputs": [],
   "source": [
    "nt.show_buttons(filter_=['physics'])\n",
    "nt.show('consumable_vis_pods_and_nodes.html')"
   ]
  },
  {
   "cell_type": "code",
   "execution_count": null,
   "metadata": {},
   "outputs": [],
   "source": []
  }
 ],
 "metadata": {
  "kernelspec": {
   "display_name": "Python 3",
   "language": "python",
   "name": "python3"
  },
  "language_info": {
   "codemirror_mode": {
    "name": "ipython",
    "version": 3
   },
   "file_extension": ".py",
   "mimetype": "text/x-python",
   "name": "python",
   "nbconvert_exporter": "python",
   "pygments_lexer": "ipython3",
   "version": "3.10.11"
  },
  "orig_nbformat": 4
 },
 "nbformat": 4,
 "nbformat_minor": 2
}
